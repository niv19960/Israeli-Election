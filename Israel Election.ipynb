{
 "cells": [
  {
   "cell_type": "markdown",
   "metadata": {},
   "source": [
    "### Data Sources \n",
    "\n",
    "- https://votes24.bechirot.gov.il/cityresults\n",
    "- https://www.cbs.gov.il/he/publications/Pages/2019/יישובים-בישראל.aspx\n",
    "- https://www.btl.gov.il/Publications/yeshuvim/2019/Pages/default.aspx"
   ]
  },
  {
   "cell_type": "code",
   "execution_count": 1,
   "metadata": {},
   "outputs": [],
   "source": [
    "import pandas as pd\n",
    "import numpy as np \n",
    "import os \n",
    "\n",
    "import matplotlib.pyplot as plt \n",
    "\n",
    "from scipy.stats import ttest_1samp\n",
    "\n",
    "import statsmodels.api as sm\n",
    "\n",
    "from sklearn.model_selection import train_test_split\n",
    "from sklearn.linear_model import LinearRegression\n",
    "from sklearn.metrics import r2_score\n",
    "from sklearn.decomposition import PCA\n",
    "from sklearn.cluster import KMeans"
   ]
  },
  {
   "cell_type": "markdown",
   "metadata": {},
   "source": [
    "<u>**Columns:**</u>\n",
    "\n",
    "* **city**\n",
    "* **city_code** \n",
    "* **kalpi_code** \n",
    "* **num_voters -** Number of voters\n",
    "* **num_disqualified -** Number of ileggal votes\n",
    "* **final_num -** Number of leggal votes\n"
   ]
  },
  {
   "cell_type": "code",
   "execution_count": 2,
   "metadata": {},
   "outputs": [],
   "source": [
    "votes_df = pd.read_csv(\"votes2020.csv\")"
   ]
  },
  {
   "cell_type": "markdown",
   "metadata": {},
   "source": [
    "#### Data Exploration"
   ]
  },
  {
   "cell_type": "code",
   "execution_count": 3,
   "metadata": {},
   "outputs": [
    {
     "data": {
      "text/html": [
       "<div>\n",
       "<style scoped>\n",
       "    .dataframe tbody tr th:only-of-type {\n",
       "        vertical-align: middle;\n",
       "    }\n",
       "\n",
       "    .dataframe tbody tr th {\n",
       "        vertical-align: top;\n",
       "    }\n",
       "\n",
       "    .dataframe thead th {\n",
       "        text-align: right;\n",
       "    }\n",
       "</style>\n",
       "<table border=\"1\" class=\"dataframe\">\n",
       "  <thead>\n",
       "    <tr style=\"text-align: right;\">\n",
       "      <th></th>\n",
       "      <th>city</th>\n",
       "      <th>city_code</th>\n",
       "      <th>kalpi_code</th>\n",
       "      <th>num_voters</th>\n",
       "      <th>num_disqualified</th>\n",
       "      <th>final_num</th>\n",
       "    </tr>\n",
       "  </thead>\n",
       "  <tbody>\n",
       "    <tr>\n",
       "      <th>0</th>\n",
       "      <td>אבו ג'ווייעד (שבט</td>\n",
       "      <td>967</td>\n",
       "      <td>1</td>\n",
       "      <td>66</td>\n",
       "      <td>5</td>\n",
       "      <td>61</td>\n",
       "    </tr>\n",
       "    <tr>\n",
       "      <th>1</th>\n",
       "      <td>אבו ג'ווייעד (שבט</td>\n",
       "      <td>967</td>\n",
       "      <td>2</td>\n",
       "      <td>145</td>\n",
       "      <td>1</td>\n",
       "      <td>144</td>\n",
       "    </tr>\n",
       "    <tr>\n",
       "      <th>2</th>\n",
       "      <td>אבו ג'ווייעד (שבט</td>\n",
       "      <td>967</td>\n",
       "      <td>3</td>\n",
       "      <td>102</td>\n",
       "      <td>1</td>\n",
       "      <td>101</td>\n",
       "    </tr>\n",
       "    <tr>\n",
       "      <th>3</th>\n",
       "      <td>אבו גוש</td>\n",
       "      <td>472</td>\n",
       "      <td>1</td>\n",
       "      <td>442</td>\n",
       "      <td>4</td>\n",
       "      <td>438</td>\n",
       "    </tr>\n",
       "    <tr>\n",
       "      <th>4</th>\n",
       "      <td>אבו גוש</td>\n",
       "      <td>472</td>\n",
       "      <td>2</td>\n",
       "      <td>458</td>\n",
       "      <td>3</td>\n",
       "      <td>455</td>\n",
       "    </tr>\n",
       "    <tr>\n",
       "      <th>5</th>\n",
       "      <td>אבו גוש</td>\n",
       "      <td>472</td>\n",
       "      <td>3</td>\n",
       "      <td>476</td>\n",
       "      <td>11</td>\n",
       "      <td>465</td>\n",
       "    </tr>\n",
       "    <tr>\n",
       "      <th>6</th>\n",
       "      <td>אבו גוש</td>\n",
       "      <td>472</td>\n",
       "      <td>4</td>\n",
       "      <td>425</td>\n",
       "      <td>6</td>\n",
       "      <td>419</td>\n",
       "    </tr>\n",
       "    <tr>\n",
       "      <th>7</th>\n",
       "      <td>אבו גוש</td>\n",
       "      <td>472</td>\n",
       "      <td>5</td>\n",
       "      <td>381</td>\n",
       "      <td>6</td>\n",
       "      <td>375</td>\n",
       "    </tr>\n",
       "    <tr>\n",
       "      <th>8</th>\n",
       "      <td>אבו גוש</td>\n",
       "      <td>472</td>\n",
       "      <td>6</td>\n",
       "      <td>357</td>\n",
       "      <td>3</td>\n",
       "      <td>354</td>\n",
       "    </tr>\n",
       "    <tr>\n",
       "      <th>9</th>\n",
       "      <td>אבו סנאן</td>\n",
       "      <td>473</td>\n",
       "      <td>1</td>\n",
       "      <td>493</td>\n",
       "      <td>5</td>\n",
       "      <td>488</td>\n",
       "    </tr>\n",
       "  </tbody>\n",
       "</table>\n",
       "</div>"
      ],
      "text/plain": [
       "                city  city_code  kalpi_code  num_voters  num_disqualified  \\\n",
       "0  אבו ג'ווייעד (שבט        967           1          66                 5   \n",
       "1  אבו ג'ווייעד (שבט        967           2         145                 1   \n",
       "2  אבו ג'ווייעד (שבט        967           3         102                 1   \n",
       "3            אבו גוש        472           1         442                 4   \n",
       "4            אבו גוש        472           2         458                 3   \n",
       "5            אבו גוש        472           3         476                11   \n",
       "6            אבו גוש        472           4         425                 6   \n",
       "7            אבו גוש        472           5         381                 6   \n",
       "8            אבו גוש        472           6         357                 3   \n",
       "9           אבו סנאן        473           1         493                 5   \n",
       "\n",
       "   final_num  \n",
       "0         61  \n",
       "1        144  \n",
       "2        101  \n",
       "3        438  \n",
       "4        455  \n",
       "5        465  \n",
       "6        419  \n",
       "7        375  \n",
       "8        354  \n",
       "9        488  "
      ]
     },
     "execution_count": 3,
     "metadata": {},
     "output_type": "execute_result"
    }
   ],
   "source": [
    "votes_df.head(10)"
   ]
  },
  {
   "cell_type": "code",
   "execution_count": 4,
   "metadata": {},
   "outputs": [
    {
     "data": {
      "text/html": [
       "<div>\n",
       "<style scoped>\n",
       "    .dataframe tbody tr th:only-of-type {\n",
       "        vertical-align: middle;\n",
       "    }\n",
       "\n",
       "    .dataframe tbody tr th {\n",
       "        vertical-align: top;\n",
       "    }\n",
       "\n",
       "    .dataframe thead th {\n",
       "        text-align: right;\n",
       "    }\n",
       "</style>\n",
       "<table border=\"1\" class=\"dataframe\">\n",
       "  <thead>\n",
       "    <tr style=\"text-align: right;\">\n",
       "      <th></th>\n",
       "      <th>city</th>\n",
       "      <th>city_code</th>\n",
       "      <th>kalpi_code</th>\n",
       "      <th>num_voters</th>\n",
       "      <th>num_disqualified</th>\n",
       "      <th>final_num</th>\n",
       "    </tr>\n",
       "  </thead>\n",
       "  <tbody>\n",
       "    <tr>\n",
       "      <th>1910</th>\n",
       "      <td>בת ים</td>\n",
       "      <td>6200</td>\n",
       "      <td>104</td>\n",
       "      <td>315</td>\n",
       "      <td>3</td>\n",
       "      <td>312</td>\n",
       "    </tr>\n",
       "    <tr>\n",
       "      <th>2786</th>\n",
       "      <td>חדרה</td>\n",
       "      <td>6500</td>\n",
       "      <td>23</td>\n",
       "      <td>391</td>\n",
       "      <td>6</td>\n",
       "      <td>385</td>\n",
       "    </tr>\n",
       "    <tr>\n",
       "      <th>2055</th>\n",
       "      <td>ג'סר א-זרקא</td>\n",
       "      <td>541</td>\n",
       "      <td>3</td>\n",
       "      <td>561</td>\n",
       "      <td>0</td>\n",
       "      <td>561</td>\n",
       "    </tr>\n",
       "    <tr>\n",
       "      <th>7252</th>\n",
       "      <td>ערד</td>\n",
       "      <td>2560</td>\n",
       "      <td>12</td>\n",
       "      <td>549</td>\n",
       "      <td>7</td>\n",
       "      <td>542</td>\n",
       "    </tr>\n",
       "    <tr>\n",
       "      <th>5234</th>\n",
       "      <td>לוד</td>\n",
       "      <td>7000</td>\n",
       "      <td>7</td>\n",
       "      <td>315</td>\n",
       "      <td>5</td>\n",
       "      <td>310</td>\n",
       "    </tr>\n",
       "    <tr>\n",
       "      <th>2801</th>\n",
       "      <td>חדרה</td>\n",
       "      <td>6500</td>\n",
       "      <td>38</td>\n",
       "      <td>431</td>\n",
       "      <td>6</td>\n",
       "      <td>425</td>\n",
       "    </tr>\n",
       "    <tr>\n",
       "      <th>7531</th>\n",
       "      <td>פתח תקווה</td>\n",
       "      <td>7900</td>\n",
       "      <td>122</td>\n",
       "      <td>359</td>\n",
       "      <td>2</td>\n",
       "      <td>357</td>\n",
       "    </tr>\n",
       "    <tr>\n",
       "      <th>2323</th>\n",
       "      <td>גן יבנה</td>\n",
       "      <td>166</td>\n",
       "      <td>23</td>\n",
       "      <td>461</td>\n",
       "      <td>5</td>\n",
       "      <td>456</td>\n",
       "    </tr>\n",
       "    <tr>\n",
       "      <th>5393</th>\n",
       "      <td>מג'ד אל-כרום</td>\n",
       "      <td>516</td>\n",
       "      <td>11</td>\n",
       "      <td>488</td>\n",
       "      <td>0</td>\n",
       "      <td>488</td>\n",
       "    </tr>\n",
       "    <tr>\n",
       "      <th>823</th>\n",
       "      <td>אשקלון</td>\n",
       "      <td>7100</td>\n",
       "      <td>8</td>\n",
       "      <td>459</td>\n",
       "      <td>7</td>\n",
       "      <td>452</td>\n",
       "    </tr>\n",
       "  </tbody>\n",
       "</table>\n",
       "</div>"
      ],
      "text/plain": [
       "              city  city_code  kalpi_code  num_voters  num_disqualified  \\\n",
       "1910         בת ים       6200         104         315                 3   \n",
       "2786          חדרה       6500          23         391                 6   \n",
       "2055   ג'סר א-זרקא        541           3         561                 0   \n",
       "7252           ערד       2560          12         549                 7   \n",
       "5234           לוד       7000           7         315                 5   \n",
       "2801          חדרה       6500          38         431                 6   \n",
       "7531     פתח תקווה       7900         122         359                 2   \n",
       "2323       גן יבנה        166          23         461                 5   \n",
       "5393  מג'ד אל-כרום        516          11         488                 0   \n",
       "823         אשקלון       7100           8         459                 7   \n",
       "\n",
       "      final_num  \n",
       "1910        312  \n",
       "2786        385  \n",
       "2055        561  \n",
       "7252        542  \n",
       "5234        310  \n",
       "2801        425  \n",
       "7531        357  \n",
       "2323        456  \n",
       "5393        488  \n",
       "823         452  "
      ]
     },
     "execution_count": 4,
     "metadata": {},
     "output_type": "execute_result"
    }
   ],
   "source": [
    "votes_df.sample(10)"
   ]
  },
  {
   "cell_type": "code",
   "execution_count": 5,
   "metadata": {},
   "outputs": [
    {
     "name": "stdout",
     "output_type": "stream",
     "text": [
      "<class 'pandas.core.frame.DataFrame'>\n",
      "RangeIndex: 10414 entries, 0 to 10413\n",
      "Data columns (total 6 columns):\n",
      " #   Column            Non-Null Count  Dtype \n",
      "---  ------            --------------  ----- \n",
      " 0   city              10414 non-null  object\n",
      " 1   city_code         10414 non-null  int64 \n",
      " 2   kalpi_code        10414 non-null  int64 \n",
      " 3   num_voters        10414 non-null  int64 \n",
      " 4   num_disqualified  10414 non-null  int64 \n",
      " 5   final_num         10414 non-null  int64 \n",
      "dtypes: int64(5), object(1)\n",
      "memory usage: 488.3+ KB\n"
     ]
    }
   ],
   "source": [
    "votes_df.info()"
   ]
  },
  {
   "cell_type": "code",
   "execution_count": 6,
   "metadata": {},
   "outputs": [
    {
     "data": {
      "text/plain": [
       "1196"
      ]
     },
     "execution_count": 6,
     "metadata": {},
     "output_type": "execute_result"
    }
   ],
   "source": [
    "# Number of cities\n",
    "\n",
    "len(votes_df.city.unique())"
   ]
  },
  {
   "cell_type": "code",
   "execution_count": 7,
   "metadata": {},
   "outputs": [
    {
     "data": {
      "text/plain": [
       "city\n",
       "תל אביב - יפו      263205\n",
       "ירושלים            258879\n",
       "מעטפות חיצוניות    234599\n",
       "חיפה               151318\n",
       "ראשון לציון        138998\n",
       "                    ...  \n",
       "אבו עבדון (שבט)        37\n",
       "אלוני יצחק             27\n",
       "מסעדה                  26\n",
       "בוקעאתא                17\n",
       "שער מנשה               13\n",
       "Name: num_voters, Length: 1196, dtype: int64"
      ]
     },
     "execution_count": 7,
     "metadata": {},
     "output_type": "execute_result"
    }
   ],
   "source": [
    "# City with most number of voters\n",
    "\n",
    "votes_df.groupby(\"city\").sum().sort_values(\"num_voters\", ascending=False)[\"num_voters\"]"
   ]
  },
  {
   "cell_type": "code",
   "execution_count": 8,
   "metadata": {},
   "outputs": [
    {
     "data": {
      "text/plain": [
       "<matplotlib.axes._subplots.AxesSubplot at 0x20ee45c9ee0>"
      ]
     },
     "execution_count": 8,
     "metadata": {},
     "output_type": "execute_result"
    },
    {
     "data": {
      "image/png": "[encoded data removed]",
      "text/plain": [
       "<Figure size 432x288 with 1 Axes>"
      ]
     },
     "metadata": {
      "needs_background": "light"
     },
     "output_type": "display_data"
    }
   ],
   "source": [
    "# Distribution of number of voter by each kalpi\n",
    "\n",
    "votes_df[\"num_voters\"].hist()"
   ]
  },
  {
   "cell_type": "code",
   "execution_count": 9,
   "metadata": {},
   "outputs": [
    {
     "data": {
      "text/plain": [
       "city\n",
       "ירושלים             681\n",
       "תל אביב - יפו       680\n",
       "חיפה                413\n",
       "ראשון לציון         329\n",
       "מעטפות חיצוניות     295\n",
       "                   ... \n",
       "כרם בן זמרה           1\n",
       "כרם יבנה (ישיבה)      1\n",
       "כרם מהר\"ל             1\n",
       "כרם שלום              1\n",
       "תרום                  1\n",
       "Name: kalpi_code, Length: 1196, dtype: int64"
      ]
     },
     "execution_count": 9,
     "metadata": {},
     "output_type": "execute_result"
    }
   ],
   "source": [
    "# The city with largest number of kalpi\n",
    "\n",
    "votes_df.groupby(\"city\").count().sort_values(\"kalpi_code\", ascending=False)[\"kalpi_code\"]\n",
    "\n",
    "# votes_df['city'].value_counts()"
   ]
  },
  {
   "cell_type": "code",
   "execution_count": 10,
   "metadata": {},
   "outputs": [
    {
     "data": {
      "text/html": [
       "<div>\n",
       "<style scoped>\n",
       "    .dataframe tbody tr th:only-of-type {\n",
       "        vertical-align: middle;\n",
       "    }\n",
       "\n",
       "    .dataframe tbody tr th {\n",
       "        vertical-align: top;\n",
       "    }\n",
       "\n",
       "    .dataframe thead th {\n",
       "        text-align: right;\n",
       "    }\n",
       "</style>\n",
       "<table border=\"1\" class=\"dataframe\">\n",
       "  <thead>\n",
       "    <tr style=\"text-align: right;\">\n",
       "      <th></th>\n",
       "      <th>city</th>\n",
       "      <th>city_code</th>\n",
       "      <th>kalpi_code</th>\n",
       "      <th>num_voters</th>\n",
       "      <th>num_disqualified</th>\n",
       "      <th>final_num</th>\n",
       "      <th>fraction_disqualified</th>\n",
       "    </tr>\n",
       "  </thead>\n",
       "  <tbody>\n",
       "    <tr>\n",
       "      <th>4114</th>\n",
       "      <td>ירושלים</td>\n",
       "      <td>3000</td>\n",
       "      <td>133</td>\n",
       "      <td>270</td>\n",
       "      <td>56</td>\n",
       "      <td>214</td>\n",
       "      <td>0.207407</td>\n",
       "    </tr>\n",
       "    <tr>\n",
       "      <th>6502</th>\n",
       "      <td>נצרת</td>\n",
       "      <td>7300</td>\n",
       "      <td>41</td>\n",
       "      <td>456</td>\n",
       "      <td>64</td>\n",
       "      <td>392</td>\n",
       "      <td>0.140351</td>\n",
       "    </tr>\n",
       "    <tr>\n",
       "      <th>3773</th>\n",
       "      <td>טירת כרמל</td>\n",
       "      <td>2100</td>\n",
       "      <td>18</td>\n",
       "      <td>357</td>\n",
       "      <td>43</td>\n",
       "      <td>314</td>\n",
       "      <td>0.120448</td>\n",
       "    </tr>\n",
       "    <tr>\n",
       "      <th>5477</th>\n",
       "      <td>מודיעין עילית</td>\n",
       "      <td>3797</td>\n",
       "      <td>12</td>\n",
       "      <td>480</td>\n",
       "      <td>54</td>\n",
       "      <td>426</td>\n",
       "      <td>0.112500</td>\n",
       "    </tr>\n",
       "    <tr>\n",
       "      <th>587</th>\n",
       "      <td>אשדוד</td>\n",
       "      <td>70</td>\n",
       "      <td>60</td>\n",
       "      <td>492</td>\n",
       "      <td>52</td>\n",
       "      <td>440</td>\n",
       "      <td>0.105691</td>\n",
       "    </tr>\n",
       "    <tr>\n",
       "      <th>589</th>\n",
       "      <td>אשדוד</td>\n",
       "      <td>70</td>\n",
       "      <td>62</td>\n",
       "      <td>332</td>\n",
       "      <td>35</td>\n",
       "      <td>297</td>\n",
       "      <td>0.105422</td>\n",
       "    </tr>\n",
       "    <tr>\n",
       "      <th>1661</th>\n",
       "      <td>בני ברק</td>\n",
       "      <td>6100</td>\n",
       "      <td>112</td>\n",
       "      <td>461</td>\n",
       "      <td>47</td>\n",
       "      <td>414</td>\n",
       "      <td>0.101952</td>\n",
       "    </tr>\n",
       "    <tr>\n",
       "      <th>5487</th>\n",
       "      <td>מודיעין עילית</td>\n",
       "      <td>3797</td>\n",
       "      <td>23</td>\n",
       "      <td>536</td>\n",
       "      <td>53</td>\n",
       "      <td>483</td>\n",
       "      <td>0.098881</td>\n",
       "    </tr>\n",
       "    <tr>\n",
       "      <th>1645</th>\n",
       "      <td>בני ברק</td>\n",
       "      <td>6100</td>\n",
       "      <td>96</td>\n",
       "      <td>316</td>\n",
       "      <td>31</td>\n",
       "      <td>285</td>\n",
       "      <td>0.098101</td>\n",
       "    </tr>\n",
       "    <tr>\n",
       "      <th>8991</th>\n",
       "      <td>רמלה</td>\n",
       "      <td>8500</td>\n",
       "      <td>7</td>\n",
       "      <td>355</td>\n",
       "      <td>34</td>\n",
       "      <td>321</td>\n",
       "      <td>0.095775</td>\n",
       "    </tr>\n",
       "  </tbody>\n",
       "</table>\n",
       "</div>"
      ],
      "text/plain": [
       "               city  city_code  kalpi_code  num_voters  num_disqualified  \\\n",
       "4114        ירושלים       3000         133         270                56   \n",
       "6502           נצרת       7300          41         456                64   \n",
       "3773      טירת כרמל       2100          18         357                43   \n",
       "5477  מודיעין עילית       3797          12         480                54   \n",
       "587           אשדוד         70          60         492                52   \n",
       "589           אשדוד         70          62         332                35   \n",
       "1661        בני ברק       6100         112         461                47   \n",
       "5487  מודיעין עילית       3797          23         536                53   \n",
       "1645        בני ברק       6100          96         316                31   \n",
       "8991           רמלה       8500           7         355                34   \n",
       "\n",
       "      final_num  fraction_disqualified  \n",
       "4114        214               0.207407  \n",
       "6502        392               0.140351  \n",
       "3773        314               0.120448  \n",
       "5477        426               0.112500  \n",
       "587         440               0.105691  \n",
       "589         297               0.105422  \n",
       "1661        414               0.101952  \n",
       "5487        483               0.098881  \n",
       "1645        285               0.098101  \n",
       "8991        321               0.095775  "
      ]
     },
     "execution_count": 10,
     "metadata": {},
     "output_type": "execute_result"
    }
   ],
   "source": [
    "# Largets fraction of disqualified?\n",
    "\n",
    "votes_df[\"fraction_disqualified\"] = votes_df[\"num_disqualified\"] / votes_df[\"num_voters\"]\n",
    "\n",
    "votes_df.sort_values(\"fraction_disqualified\", ascending=False).head(10)"
   ]
  },
  {
   "cell_type": "code",
   "execution_count": 11,
   "metadata": {},
   "outputs": [
    {
     "data": {
      "text/plain": [
       "<matplotlib.axes._subplots.AxesSubplot at 0x20ee4d75ca0>"
      ]
     },
     "execution_count": 11,
     "metadata": {},
     "output_type": "execute_result"
    },
    {
     "data": {
      "image/png": "[encoded data removed]",
      "text/plain": [
       "<Figure size 432x288 with 1 Axes>"
      ]
     },
     "metadata": {
      "needs_background": "light"
     },
     "output_type": "display_data"
    }
   ],
   "source": [
    "# Distribution of disqualified \n",
    "\n",
    "plt.figure()\n",
    "votes_df[\"fraction_disqualified\"].hist(bins=100)"
   ]
  },
  {
   "cell_type": "code",
   "execution_count": 12,
   "metadata": {},
   "outputs": [
    {
     "data": {
      "text/plain": [
       "<matplotlib.axes._subplots.AxesSubplot at 0x20ee4f583a0>"
      ]
     },
     "execution_count": 12,
     "metadata": {},
     "output_type": "execute_result"
    },
    {
     "data": {
      "image/png": "[encoded data removed]",
      "text/plain": [
       "<Figure size 432x288 with 1 Axes>"
      ]
     },
     "metadata": {
      "needs_background": "light"
     },
     "output_type": "display_data"
    }
   ],
   "source": [
    "# Outliers for disqualified\n",
    "\n",
    "plt.figure()\n",
    "votes_df[\"fraction_disqualified\"].plot(kind=\"box\")"
   ]
  },
  {
   "cell_type": "markdown",
   "metadata": {},
   "source": [
    "### Hypothesis Testing\n",
    "\n",
    "**Cities which starting with letter 'א' have larger mean than all cities mean of disqualified votes?**"
   ]
  },
  {
   "cell_type": "code",
   "execution_count": 13,
   "metadata": {},
   "outputs": [
    {
     "data": {
      "text/html": [
       "<div>\n",
       "<style scoped>\n",
       "    .dataframe tbody tr th:only-of-type {\n",
       "        vertical-align: middle;\n",
       "    }\n",
       "\n",
       "    .dataframe tbody tr th {\n",
       "        vertical-align: top;\n",
       "    }\n",
       "\n",
       "    .dataframe thead th {\n",
       "        text-align: right;\n",
       "    }\n",
       "</style>\n",
       "<table border=\"1\" class=\"dataframe\">\n",
       "  <thead>\n",
       "    <tr style=\"text-align: right;\">\n",
       "      <th></th>\n",
       "      <th>num_voters</th>\n",
       "      <th>num_disqualified</th>\n",
       "      <th>final_num</th>\n",
       "      <th>fraction_disqualified</th>\n",
       "    </tr>\n",
       "    <tr>\n",
       "      <th>city</th>\n",
       "      <th></th>\n",
       "      <th></th>\n",
       "      <th></th>\n",
       "      <th></th>\n",
       "    </tr>\n",
       "  </thead>\n",
       "  <tbody>\n",
       "    <tr>\n",
       "      <th>אבו ג'ווייעד (שבט</th>\n",
       "      <td>313</td>\n",
       "      <td>7</td>\n",
       "      <td>306</td>\n",
       "      <td>0.092458</td>\n",
       "    </tr>\n",
       "    <tr>\n",
       "      <th>אבו גוש</th>\n",
       "      <td>2539</td>\n",
       "      <td>33</td>\n",
       "      <td>2506</td>\n",
       "      <td>0.076978</td>\n",
       "    </tr>\n",
       "    <tr>\n",
       "      <th>אבו סנאן</th>\n",
       "      <td>5798</td>\n",
       "      <td>52</td>\n",
       "      <td>5746</td>\n",
       "      <td>0.108915</td>\n",
       "    </tr>\n",
       "    <tr>\n",
       "      <th>אבו עבדון (שבט)</th>\n",
       "      <td>37</td>\n",
       "      <td>1</td>\n",
       "      <td>36</td>\n",
       "      <td>0.027027</td>\n",
       "    </tr>\n",
       "    <tr>\n",
       "      <th>אבו קורינאת (שבט)</th>\n",
       "      <td>759</td>\n",
       "      <td>7</td>\n",
       "      <td>752</td>\n",
       "      <td>0.032318</td>\n",
       "    </tr>\n",
       "    <tr>\n",
       "      <th>...</th>\n",
       "      <td>...</td>\n",
       "      <td>...</td>\n",
       "      <td>...</td>\n",
       "      <td>...</td>\n",
       "    </tr>\n",
       "    <tr>\n",
       "      <th>תקומה</th>\n",
       "      <td>335</td>\n",
       "      <td>4</td>\n",
       "      <td>331</td>\n",
       "      <td>0.011940</td>\n",
       "    </tr>\n",
       "    <tr>\n",
       "      <th>תקוע</th>\n",
       "      <td>1459</td>\n",
       "      <td>2</td>\n",
       "      <td>1457</td>\n",
       "      <td>0.004505</td>\n",
       "    </tr>\n",
       "    <tr>\n",
       "      <th>תראבין א-צאנע (שב</th>\n",
       "      <td>106</td>\n",
       "      <td>0</td>\n",
       "      <td>106</td>\n",
       "      <td>0.000000</td>\n",
       "    </tr>\n",
       "    <tr>\n",
       "      <th>תראבין א-צאנע(ישו</th>\n",
       "      <td>60</td>\n",
       "      <td>0</td>\n",
       "      <td>60</td>\n",
       "      <td>0.000000</td>\n",
       "    </tr>\n",
       "    <tr>\n",
       "      <th>תרום</th>\n",
       "      <td>411</td>\n",
       "      <td>2</td>\n",
       "      <td>409</td>\n",
       "      <td>0.004866</td>\n",
       "    </tr>\n",
       "  </tbody>\n",
       "</table>\n",
       "<p>1196 rows × 4 columns</p>\n",
       "</div>"
      ],
      "text/plain": [
       "                   num_voters  num_disqualified  final_num  \\\n",
       "city                                                         \n",
       "אבו ג'ווייעד (שבט         313                 7        306   \n",
       "אבו גוש                  2539                33       2506   \n",
       "אבו סנאן                 5798                52       5746   \n",
       "אבו עבדון (שבט)            37                 1         36   \n",
       "אבו קורינאת (שבט)         759                 7        752   \n",
       "...                       ...               ...        ...   \n",
       "תקומה                     335                 4        331   \n",
       "תקוע                     1459                 2       1457   \n",
       "תראבין א-צאנע (שב         106                 0        106   \n",
       "תראבין א-צאנע(ישו          60                 0         60   \n",
       "תרום                      411                 2        409   \n",
       "\n",
       "                   fraction_disqualified  \n",
       "city                                      \n",
       "אבו ג'ווייעד (שבט               0.092458  \n",
       "אבו גוש                         0.076978  \n",
       "אבו סנאן                        0.108915  \n",
       "אבו עבדון (שבט)                 0.027027  \n",
       "אבו קורינאת (שבט)               0.032318  \n",
       "...                                  ...  \n",
       "תקומה                           0.011940  \n",
       "תקוע                            0.004505  \n",
       "תראבין א-צאנע (שב               0.000000  \n",
       "תראבין א-צאנע(ישו               0.000000  \n",
       "תרום                            0.004866  \n",
       "\n",
       "[1196 rows x 4 columns]"
      ]
     },
     "execution_count": 13,
     "metadata": {},
     "output_type": "execute_result"
    }
   ],
   "source": [
    "By_city_df = votes_df.groupby(\"city\").sum()\n",
    "By_city_df = By_city_df.drop(['city_code', 'kalpi_code'], axis=1)\n",
    "By_city_df"
   ]
  },
  {
   "cell_type": "code",
   "execution_count": 14,
   "metadata": {},
   "outputs": [
    {
     "data": {
      "text/plain": [
       "count    1196.000000\n",
       "mean       36.667224\n",
       "std       198.566590\n",
       "min         0.000000\n",
       "25%         0.000000\n",
       "50%         2.000000\n",
       "75%         4.000000\n",
       "max      3593.000000\n",
       "Name: num_disqualified, dtype: float64"
      ]
     },
     "execution_count": 14,
     "metadata": {},
     "output_type": "execute_result"
    }
   ],
   "source": [
    "By_city_df['num_disqualified'].describe()"
   ]
  },
  {
   "cell_type": "code",
   "execution_count": 15,
   "metadata": {},
   "outputs": [
    {
     "data": {
      "text/plain": [
       "city\n",
       "אבו ג'ווייעד (שבט      7\n",
       "אבו גוש               33\n",
       "אבו סנאן              52\n",
       "אבו עבדון (שבט)        1\n",
       "אבו קורינאת (שבט)      7\n",
       "                    ... \n",
       "אשל הנשיא              0\n",
       "אשלים                  0\n",
       "אשקלון               937\n",
       "אשרת                   0\n",
       "אשתאול                 2\n",
       "Name: num_disqualified, Length: 119, dtype: int64"
      ]
     },
     "execution_count": 15,
     "metadata": {},
     "output_type": "execute_result"
    }
   ],
   "source": [
    "col = 'num_disqualified'\n",
    "rows = By_city_df.index.str.startswith('א')\n",
    "By_city_df.loc[rows, col]"
   ]
  },
  {
   "cell_type": "code",
   "execution_count": 16,
   "metadata": {},
   "outputs": [
    {
     "data": {
      "text/plain": [
       "count     119.000000\n",
       "mean       39.806723\n",
       "std       200.448196\n",
       "min         0.000000\n",
       "25%         0.000000\n",
       "50%         2.000000\n",
       "75%         7.000000\n",
       "max      1942.000000\n",
       "Name: num_disqualified, dtype: float64"
      ]
     },
     "execution_count": 16,
     "metadata": {},
     "output_type": "execute_result"
    }
   ],
   "source": [
    "By_city_df.loc[rows, col].describe()"
   ]
  },
  {
   "cell_type": "code",
   "execution_count": 17,
   "metadata": {},
   "outputs": [
    {
     "data": {
      "text/plain": [
       "array([   7,   33,   52,    1,    7,    1,   11,   10,   15,    1,    1,\n",
       "          2,    0,    3,    2,    0,    1,   36,    1,    0,    3,    0,\n",
       "          2,    4,    0,    3,    0,    2,    2,    0,    1,  150,    1,\n",
       "          6,    0,    0,  184,    0,    1,  265,   86,    8,    1,    1,\n",
       "          4,    9,    0,   57,    0,    1,    3,    3,    0,    5,    9,\n",
       "          7,    2,    2,   10,    1,    1,    3,  235,    0,    1,   38,\n",
       "          0,    1,    2,    0,    0,    0,    0,    4,    0,    0,    0,\n",
       "          5,    0,   17,    0,    1,    1,    8,    0,    1,  228,    1,\n",
       "         12,    3,    6,    4,    2,    1,    0,    3,    1,    2,   39,\n",
       "         25,    1,    7,    0,   14,    3,    1,    3,  159,    2, 1942,\n",
       "          1,    0,    2,    1,    0,    0,  937,    0,    2], dtype=int64)"
      ]
     },
     "execution_count": 17,
     "metadata": {},
     "output_type": "execute_result"
    }
   ],
   "source": [
    "By_city_df.loc[rows, col].values"
   ]
  },
  {
   "attachments": {
    "image.png": {
     "image/png": "[encoded data removed]"
    }
   },
   "cell_type": "markdown",
   "metadata": {},
   "source": [
    "![image.png](attachment:image.png)"
   ]
  },
  {
   "cell_type": "code",
   "execution_count": 18,
   "metadata": {},
   "outputs": [
    {
     "name": "stdout",
     "output_type": "stream",
     "text": [
      "Critical value is:  1.6448536269514722\n",
      "t-statistic is:  0.17085655081059073\n",
      "p-value is:  0.4323145936780066\n"
     ]
    }
   ],
   "source": [
    "from scipy import stats\n",
    "from scipy.stats import norm\n",
    "\n",
    "alpha=0.05\n",
    "n_sided = 1 # 1-sided test\n",
    "t_crit = norm.ppf(1-alpha / n_sided)\n",
    "print(\"Critical value is: \",t_crit) # 1.959963984540054\n",
    "\n",
    "t_statistic, p_value = ttest_1samp(By_city_df.loc[rows, col].values, popmean=36.667224, alternative=\"greater\")\n",
    "print(\"t-statistic is: \", t_statistic)\n",
    "print(\"p-value is: \", p_value)"
   ]
  },
  {
   "cell_type": "markdown",
   "metadata": {},
   "source": [
    "Decison Rules:  \n",
    "\n",
    "* Relect Hₒ if t > critical value ---> 0.17 < 1.66, hence we cannot relect the null hypothesis.\n",
    "\n",
    "* Reject Hₒ if p-value = 0.0.8694 ≤ alpha = 0.05 ---> So we don't reject Hₒ."
   ]
  },
  {
   "cell_type": "code",
   "execution_count": 19,
   "metadata": {},
   "outputs": [
    {
     "name": "stdout",
     "output_type": "stream",
     "text": [
      "Confidence Interval 95% for all group: [25.402, 47.932]\n",
      "Confidence Interval 95% for treatment group: [3.419, 76.194]\n"
     ]
    }
   ],
   "source": [
    "import scipy.stats as st\n",
    "import numpy as np\n",
    "\n",
    "(lower_all, upper_all) = st.t.interval(alpha=0.95, df=len(By_city_df['num_disqualified'])-1, loc=np.mean(By_city_df['num_disqualified']), scale=st.sem(By_city_df['num_disqualified']))\n",
    "(lower_start_with, upper_start_with) = st.t.interval(alpha=0.95, df=len(By_city_df.loc[rows, col].values)-1, loc=np.mean(By_city_df.loc[rows, col].values), scale=st.sem(By_city_df.loc[rows, col].values))\n",
    "\n",
    "# sem - Std. error of the proportion (std / sqrt(n))\n",
    "\n",
    "print(f'Confidence Interval 95% for all group: [{lower_all:.3f}, {upper_all:.3f}]')\n",
    "print(f'Confidence Interval 95% for treatment group: [{lower_start_with:.3f}, {upper_start_with:.3f}]')"
   ]
  },
  {
   "cell_type": "markdown",
   "metadata": {},
   "source": [
    "### Let's explore the election result on 2021"
   ]
  },
  {
   "cell_type": "markdown",
   "metadata": {},
   "source": [
    "#### Load votes on 2021 election"
   ]
  },
  {
   "cell_type": "code",
   "execution_count": 20,
   "metadata": {},
   "outputs": [
    {
     "data": {
      "text/html": [
       "<div>\n",
       "<style scoped>\n",
       "    .dataframe tbody tr th:only-of-type {\n",
       "        vertical-align: middle;\n",
       "    }\n",
       "\n",
       "    .dataframe tbody tr th {\n",
       "        vertical-align: top;\n",
       "    }\n",
       "\n",
       "    .dataframe thead th {\n",
       "        text-align: right;\n",
       "    }\n",
       "</style>\n",
       "<table border=\"1\" class=\"dataframe\">\n",
       "  <thead>\n",
       "    <tr style=\"text-align: right;\">\n",
       "      <th></th>\n",
       "      <th>סמל ועדה</th>\n",
       "      <th>סמל ישוב</th>\n",
       "      <th>בזב</th>\n",
       "      <th>מצביעים</th>\n",
       "      <th>פסולים</th>\n",
       "      <th>כשרים</th>\n",
       "      <th>אמת</th>\n",
       "      <th>ב</th>\n",
       "      <th>ג</th>\n",
       "      <th>ודעם</th>\n",
       "      <th>...</th>\n",
       "      <th>ק</th>\n",
       "      <th>קי</th>\n",
       "      <th>קך</th>\n",
       "      <th>קץ</th>\n",
       "      <th>ר</th>\n",
       "      <th>רנ</th>\n",
       "      <th>רף</th>\n",
       "      <th>רק</th>\n",
       "      <th>שס</th>\n",
       "      <th>ת</th>\n",
       "    </tr>\n",
       "    <tr>\n",
       "      <th>שם ישוב</th>\n",
       "      <th></th>\n",
       "      <th></th>\n",
       "      <th></th>\n",
       "      <th></th>\n",
       "      <th></th>\n",
       "      <th></th>\n",
       "      <th></th>\n",
       "      <th></th>\n",
       "      <th></th>\n",
       "      <th></th>\n",
       "      <th></th>\n",
       "      <th></th>\n",
       "      <th></th>\n",
       "      <th></th>\n",
       "      <th></th>\n",
       "      <th></th>\n",
       "      <th></th>\n",
       "      <th></th>\n",
       "      <th></th>\n",
       "      <th></th>\n",
       "      <th></th>\n",
       "    </tr>\n",
       "  </thead>\n",
       "  <tbody>\n",
       "    <tr>\n",
       "      <th>אבירים</th>\n",
       "      <td>6</td>\n",
       "      <td>1220</td>\n",
       "      <td>221</td>\n",
       "      <td>151</td>\n",
       "      <td>1</td>\n",
       "      <td>150</td>\n",
       "      <td>47</td>\n",
       "      <td>0</td>\n",
       "      <td>0</td>\n",
       "      <td>3</td>\n",
       "      <td>...</td>\n",
       "      <td>0</td>\n",
       "      <td>0</td>\n",
       "      <td>0</td>\n",
       "      <td>0</td>\n",
       "      <td>5</td>\n",
       "      <td>0</td>\n",
       "      <td>0</td>\n",
       "      <td>0</td>\n",
       "      <td>1</td>\n",
       "      <td>8</td>\n",
       "    </tr>\n",
       "    <tr>\n",
       "      <th>אדירים</th>\n",
       "      <td>5</td>\n",
       "      <td>113</td>\n",
       "      <td>234</td>\n",
       "      <td>180</td>\n",
       "      <td>0</td>\n",
       "      <td>180</td>\n",
       "      <td>1</td>\n",
       "      <td>7</td>\n",
       "      <td>4</td>\n",
       "      <td>0</td>\n",
       "      <td>...</td>\n",
       "      <td>0</td>\n",
       "      <td>0</td>\n",
       "      <td>0</td>\n",
       "      <td>0</td>\n",
       "      <td>2</td>\n",
       "      <td>0</td>\n",
       "      <td>0</td>\n",
       "      <td>0</td>\n",
       "      <td>61</td>\n",
       "      <td>6</td>\n",
       "    </tr>\n",
       "    <tr>\n",
       "      <th>אושה</th>\n",
       "      <td>8</td>\n",
       "      <td>278</td>\n",
       "      <td>382</td>\n",
       "      <td>276</td>\n",
       "      <td>0</td>\n",
       "      <td>276</td>\n",
       "      <td>72</td>\n",
       "      <td>7</td>\n",
       "      <td>0</td>\n",
       "      <td>3</td>\n",
       "      <td>...</td>\n",
       "      <td>0</td>\n",
       "      <td>0</td>\n",
       "      <td>0</td>\n",
       "      <td>0</td>\n",
       "      <td>1</td>\n",
       "      <td>0</td>\n",
       "      <td>0</td>\n",
       "      <td>0</td>\n",
       "      <td>0</td>\n",
       "      <td>15</td>\n",
       "    </tr>\n",
       "    <tr>\n",
       "      <th>אחווה</th>\n",
       "      <td>17</td>\n",
       "      <td>1157</td>\n",
       "      <td>183</td>\n",
       "      <td>145</td>\n",
       "      <td>0</td>\n",
       "      <td>145</td>\n",
       "      <td>14</td>\n",
       "      <td>4</td>\n",
       "      <td>0</td>\n",
       "      <td>0</td>\n",
       "      <td>...</td>\n",
       "      <td>0</td>\n",
       "      <td>0</td>\n",
       "      <td>0</td>\n",
       "      <td>0</td>\n",
       "      <td>0</td>\n",
       "      <td>0</td>\n",
       "      <td>0</td>\n",
       "      <td>0</td>\n",
       "      <td>2</td>\n",
       "      <td>8</td>\n",
       "    </tr>\n",
       "    <tr>\n",
       "      <th>איבים</th>\n",
       "      <td>17</td>\n",
       "      <td>338</td>\n",
       "      <td>138</td>\n",
       "      <td>40</td>\n",
       "      <td>0</td>\n",
       "      <td>40</td>\n",
       "      <td>0</td>\n",
       "      <td>4</td>\n",
       "      <td>0</td>\n",
       "      <td>0</td>\n",
       "      <td>...</td>\n",
       "      <td>0</td>\n",
       "      <td>0</td>\n",
       "      <td>1</td>\n",
       "      <td>0</td>\n",
       "      <td>0</td>\n",
       "      <td>0</td>\n",
       "      <td>0</td>\n",
       "      <td>0</td>\n",
       "      <td>1</td>\n",
       "      <td>0</td>\n",
       "    </tr>\n",
       "  </tbody>\n",
       "</table>\n",
       "<p>5 rows × 45 columns</p>\n",
       "</div>"
      ],
      "text/plain": [
       "         סמל ועדה  סמל ישוב  בזב  מצביעים  פסולים  כשרים  אמת  ב  ג  ודעם  \\\n",
       "שם ישוב                                                                     \n",
       "אבירים          6      1220  221      151       1    150   47  0  0     3   \n",
       "אדירים          5       113  234      180       0    180    1  7  4     0   \n",
       "אושה            8       278  382      276       0    276   72  7  0     3   \n",
       "אחווה          17      1157  183      145       0    145   14  4  0     0   \n",
       "איבים          17       338  138       40       0     40    0  4  0     0   \n",
       "\n",
       "         ...  ק  קי  קך  קץ  ר  רנ  רף  רק  שס   ת  \n",
       "שם ישוב  ...                                        \n",
       "אבירים   ...  0   0   0   0  5   0   0   0   1   8  \n",
       "אדירים   ...  0   0   0   0  2   0   0   0  61   6  \n",
       "אושה     ...  0   0   0   0  1   0   0   0   0  15  \n",
       "אחווה    ...  0   0   0   0  0   0   0   0   2   8  \n",
       "איבים    ...  0   0   1   0  0   0   0   0   1   0  \n",
       "\n",
       "[5 rows x 45 columns]"
      ]
     },
     "execution_count": 20,
     "metadata": {},
     "output_type": "execute_result"
    }
   ],
   "source": [
    "votes_data = pd.read_excel(os.path.abspath(\"votes_2021_by_city.xlsx\"), index_col=1)\n",
    "votes_data.head()"
   ]
  },
  {
   "cell_type": "code",
   "execution_count": 21,
   "metadata": {},
   "outputs": [
    {
     "data": {
      "text/plain": [
       "<matplotlib.axes._subplots.AxesSubplot at 0x20ee533be80>"
      ]
     },
     "execution_count": 21,
     "metadata": {},
     "output_type": "execute_result"
    },
    {
     "data": {
      "image/png": "[encoded data removed]",
      "text/plain": [
       "<Figure size 720x720 with 1 Axes>"
      ]
     },
     "metadata": {},
     "output_type": "display_data"
    }
   ],
   "source": [
    "# Display 10 top parties who got most votes\n",
    "\n",
    "per_party = votes_data.iloc[:, 6:].sum().sort_values(ascending=False)\n",
    "per_party.head(10).plot(kind=\"pie\", figsize=(10, 10))"
   ]
  },
  {
   "cell_type": "markdown",
   "metadata": {},
   "source": [
    "#### Load info about cities in Israel"
   ]
  },
  {
   "cell_type": "code",
   "execution_count": 22,
   "metadata": {},
   "outputs": [
    {
     "data": {
      "text/html": [
       "<div>\n",
       "<style scoped>\n",
       "    .dataframe tbody tr th:only-of-type {\n",
       "        vertical-align: middle;\n",
       "    }\n",
       "\n",
       "    .dataframe tbody tr th {\n",
       "        vertical-align: top;\n",
       "    }\n",
       "\n",
       "    .dataframe thead th {\n",
       "        text-align: right;\n",
       "    }\n",
       "</style>\n",
       "<table border=\"1\" class=\"dataframe\">\n",
       "  <thead>\n",
       "    <tr style=\"text-align: right;\">\n",
       "      <th></th>\n",
       "      <th>סמל יישוב</th>\n",
       "      <th>תעתיק</th>\n",
       "      <th>מחוז</th>\n",
       "      <th>נפה</th>\n",
       "      <th>אזור טבעי</th>\n",
       "      <th>מעמד מונציפאלי</th>\n",
       "      <th>שיוך מטרופוליני</th>\n",
       "      <th>דת יישוב</th>\n",
       "      <th>סך הכל אוכלוסייה 2019</th>\n",
       "      <th>יהודים ואחרים</th>\n",
       "      <th>...</th>\n",
       "      <th>שנת ייסוד</th>\n",
       "      <th>צורת יישוב שוטפת</th>\n",
       "      <th>השתייכות ארגונית</th>\n",
       "      <th>קואורדינטות</th>\n",
       "      <th>גובה ממוצע</th>\n",
       "      <th>ועדת תכנון</th>\n",
       "      <th>מרחב משטרה</th>\n",
       "      <th>שנה</th>\n",
       "      <th>שם יישוב באנגלית</th>\n",
       "      <th>אשכול רשויות מקומיות</th>\n",
       "    </tr>\n",
       "    <tr>\n",
       "      <th>שם יישוב</th>\n",
       "      <th></th>\n",
       "      <th></th>\n",
       "      <th></th>\n",
       "      <th></th>\n",
       "      <th></th>\n",
       "      <th></th>\n",
       "      <th></th>\n",
       "      <th></th>\n",
       "      <th></th>\n",
       "      <th></th>\n",
       "      <th></th>\n",
       "      <th></th>\n",
       "      <th></th>\n",
       "      <th></th>\n",
       "      <th></th>\n",
       "      <th></th>\n",
       "      <th></th>\n",
       "      <th></th>\n",
       "      <th></th>\n",
       "      <th></th>\n",
       "      <th></th>\n",
       "    </tr>\n",
       "  </thead>\n",
       "  <tbody>\n",
       "    <tr>\n",
       "      <th>אבו ג'ווייעד (שבט)</th>\n",
       "      <td>967</td>\n",
       "      <td>ABU JUWEI'ID</td>\n",
       "      <td>6</td>\n",
       "      <td>62</td>\n",
       "      <td>623.0</td>\n",
       "      <td>NaN</td>\n",
       "      <td>NaN</td>\n",
       "      <td>3.0</td>\n",
       "      <td>NaN</td>\n",
       "      <td>NaN</td>\n",
       "      <td>...</td>\n",
       "      <td>NaN</td>\n",
       "      <td>460</td>\n",
       "      <td>NaN</td>\n",
       "      <td>2.040057e+09</td>\n",
       "      <td>NaN</td>\n",
       "      <td>699.0</td>\n",
       "      <td>15003711.0</td>\n",
       "      <td>2019</td>\n",
       "      <td>Abu Juway'ad</td>\n",
       "      <td>NaN</td>\n",
       "    </tr>\n",
       "    <tr>\n",
       "      <th>אבו גוש</th>\n",
       "      <td>472</td>\n",
       "      <td>ABU GHOSH</td>\n",
       "      <td>1</td>\n",
       "      <td>11</td>\n",
       "      <td>111.0</td>\n",
       "      <td>99.0</td>\n",
       "      <td>444.0</td>\n",
       "      <td>2.0</td>\n",
       "      <td>7699.0</td>\n",
       "      <td>88.0</td>\n",
       "      <td>...</td>\n",
       "      <td>NaN</td>\n",
       "      <td>280</td>\n",
       "      <td>NaN</td>\n",
       "      <td>2.105263e+09</td>\n",
       "      <td>686.0</td>\n",
       "      <td>152.0</td>\n",
       "      <td>10002475.0</td>\n",
       "      <td>2019</td>\n",
       "      <td>Abu Ghosh</td>\n",
       "      <td>NaN</td>\n",
       "    </tr>\n",
       "    <tr>\n",
       "      <th>אבו סנאן</th>\n",
       "      <td>473</td>\n",
       "      <td>ABU SINAN</td>\n",
       "      <td>2</td>\n",
       "      <td>24</td>\n",
       "      <td>245.0</td>\n",
       "      <td>99.0</td>\n",
       "      <td>NaN</td>\n",
       "      <td>2.0</td>\n",
       "      <td>14100.0</td>\n",
       "      <td>31.0</td>\n",
       "      <td>...</td>\n",
       "      <td>NaN</td>\n",
       "      <td>270</td>\n",
       "      <td>NaN</td>\n",
       "      <td>2.160776e+09</td>\n",
       "      <td>71.0</td>\n",
       "      <td>252.0</td>\n",
       "      <td>10004315.0</td>\n",
       "      <td>2019</td>\n",
       "      <td>Abu Sinan</td>\n",
       "      <td>NaN</td>\n",
       "    </tr>\n",
       "    <tr>\n",
       "      <th>אבו סריחאן (שבט)</th>\n",
       "      <td>935</td>\n",
       "      <td>ABU SUREIHAN</td>\n",
       "      <td>6</td>\n",
       "      <td>62</td>\n",
       "      <td>623.0</td>\n",
       "      <td>NaN</td>\n",
       "      <td>NaN</td>\n",
       "      <td>3.0</td>\n",
       "      <td>NaN</td>\n",
       "      <td>NaN</td>\n",
       "      <td>...</td>\n",
       "      <td>NaN</td>\n",
       "      <td>460</td>\n",
       "      <td>NaN</td>\n",
       "      <td>1.865057e+09</td>\n",
       "      <td>NaN</td>\n",
       "      <td>699.0</td>\n",
       "      <td>10001937.0</td>\n",
       "      <td>2019</td>\n",
       "      <td>Abu Surayhan</td>\n",
       "      <td>NaN</td>\n",
       "    </tr>\n",
       "    <tr>\n",
       "      <th>אבו עבדון (שבט)</th>\n",
       "      <td>958</td>\n",
       "      <td>ABU  ABDUN</td>\n",
       "      <td>6</td>\n",
       "      <td>62</td>\n",
       "      <td>623.0</td>\n",
       "      <td>NaN</td>\n",
       "      <td>NaN</td>\n",
       "      <td>3.0</td>\n",
       "      <td>NaN</td>\n",
       "      <td>NaN</td>\n",
       "      <td>...</td>\n",
       "      <td>NaN</td>\n",
       "      <td>460</td>\n",
       "      <td>NaN</td>\n",
       "      <td>1.850058e+09</td>\n",
       "      <td>NaN</td>\n",
       "      <td>699.0</td>\n",
       "      <td>10001937.0</td>\n",
       "      <td>2019</td>\n",
       "      <td>Abu 'Abdun</td>\n",
       "      <td>NaN</td>\n",
       "    </tr>\n",
       "  </tbody>\n",
       "</table>\n",
       "<p>5 rows × 22 columns</p>\n",
       "</div>"
      ],
      "text/plain": [
       "                    סמל יישוב         תעתיק  מחוז  נפה  אזור טבעי  \\\n",
       "שם יישוב                                                            \n",
       "אבו ג'ווייעד (שבט)        967  ABU JUWEI'ID     6   62      623.0   \n",
       "אבו גוש                   472     ABU GHOSH     1   11      111.0   \n",
       "אבו סנאן                  473     ABU SINAN     2   24      245.0   \n",
       "אבו סריחאן (שבט)          935  ABU SUREIHAN     6   62      623.0   \n",
       "אבו עבדון (שבט)           958    ABU  ABDUN     6   62      623.0   \n",
       "\n",
       "                    מעמד מונציפאלי  שיוך מטרופוליני  דת יישוב  \\\n",
       "שם יישוב                                                        \n",
       "אבו ג'ווייעד (שבט)             NaN              NaN       3.0   \n",
       "אבו גוש                       99.0            444.0       2.0   \n",
       "אבו סנאן                      99.0              NaN       2.0   \n",
       "אבו סריחאן (שבט)               NaN              NaN       3.0   \n",
       "אבו עבדון (שבט)                NaN              NaN       3.0   \n",
       "\n",
       "                    סך הכל אוכלוסייה 2019  יהודים ואחרים  ...  שנת ייסוד  \\\n",
       "שם יישוב                                                  ...              \n",
       "אבו ג'ווייעד (שבט)                    NaN            NaN  ...        NaN   \n",
       "אבו גוש                            7699.0           88.0  ...        NaN   \n",
       "אבו סנאן                          14100.0           31.0  ...        NaN   \n",
       "אבו סריחאן (שבט)                      NaN            NaN  ...        NaN   \n",
       "אבו עבדון (שבט)                       NaN            NaN  ...        NaN   \n",
       "\n",
       "                    צורת יישוב שוטפת השתייכות ארגונית   קואורדינטות  \\\n",
       "שם יישוב                                                              \n",
       "אבו ג'ווייעד (שבט)               460              NaN  2.040057e+09   \n",
       "אבו גוש                          280              NaN  2.105263e+09   \n",
       "אבו סנאן                         270              NaN  2.160776e+09   \n",
       "אבו סריחאן (שבט)                 460              NaN  1.865057e+09   \n",
       "אבו עבדון (שבט)                  460              NaN  1.850058e+09   \n",
       "\n",
       "                    גובה ממוצע  ועדת תכנון  מרחב משטרה   שנה  \\\n",
       "שם יישוב                                                       \n",
       "אבו ג'ווייעד (שבט)         NaN       699.0  15003711.0  2019   \n",
       "אבו גוש                  686.0       152.0  10002475.0  2019   \n",
       "אבו סנאן                  71.0       252.0  10004315.0  2019   \n",
       "אבו סריחאן (שבט)           NaN       699.0  10001937.0  2019   \n",
       "אבו עבדון (שבט)            NaN       699.0  10001937.0  2019   \n",
       "\n",
       "                    שם יישוב באנגלית  אשכול רשויות מקומיות  \n",
       "שם יישוב                                                    \n",
       "אבו ג'ווייעד (שבט)      Abu Juway'ad                   NaN  \n",
       "אבו גוש                    Abu Ghosh                   NaN  \n",
       "אבו סנאן                   Abu Sinan                   NaN  \n",
       "אבו סריחאן (שבט)        Abu Surayhan                   NaN  \n",
       "אבו עבדון (שבט)           Abu 'Abdun                   NaN  \n",
       "\n",
       "[5 rows x 22 columns]"
      ]
     },
     "execution_count": 22,
     "metadata": {},
     "output_type": "execute_result"
    }
   ],
   "source": [
    "cities_data = pd.read_excel(os.path.abspath(\"cities.xlsx\"), index_col=0)\n",
    "cities_data.head()"
   ]
  },
  {
   "cell_type": "code",
   "execution_count": 23,
   "metadata": {},
   "outputs": [
    {
     "data": {
      "text/plain": [
       "Index(['סמל יישוב', 'תעתיק', 'מחוז', 'נפה', 'אזור טבעי', 'מעמד מונציפאלי',\n",
       "       'שיוך מטרופוליני', 'דת יישוב', 'סך הכל אוכלוסייה 2019', 'יהודים ואחרים',\n",
       "       'מזה: יהודים', 'ערבים', 'שנת ייסוד', 'צורת יישוב שוטפת',\n",
       "       'השתייכות ארגונית', 'קואורדינטות', 'גובה ממוצע', 'ועדת תכנון',\n",
       "       'מרחב משטרה', 'שנה', 'שם יישוב באנגלית', 'אשכול רשויות מקומיות'],\n",
       "      dtype='object')"
      ]
     },
     "execution_count": 23,
     "metadata": {},
     "output_type": "execute_result"
    }
   ],
   "source": [
    "cities_data.columns"
   ]
  },
  {
   "cell_type": "code",
   "execution_count": 24,
   "metadata": {},
   "outputs": [
    {
     "name": "stdout",
     "output_type": "stream",
     "text": [
      "<class 'pandas.core.frame.DataFrame'>\n",
      "Index: 1483 entries, אבו ג'ווייעד (שבט) to תרום\n",
      "Data columns (total 22 columns):\n",
      " #   Column                 Non-Null Count  Dtype  \n",
      "---  ------                 --------------  -----  \n",
      " 0   סמל יישוב              1483 non-null   int64  \n",
      " 1   תעתיק                  1319 non-null   object \n",
      " 2   מחוז                   1483 non-null   int64  \n",
      " 3   נפה                    1483 non-null   int64  \n",
      " 4   אזור טבעי              1334 non-null   float64\n",
      " 5   מעמד מונציפאלי         1406 non-null   float64\n",
      " 6   שיוך מטרופוליני        553 non-null    float64\n",
      " 7   דת יישוב               1246 non-null   float64\n",
      " 8   סך הכל אוכלוסייה 2019  1218 non-null   float64\n",
      " 9   יהודים ואחרים          1191 non-null   float64\n",
      " 10  מזה: יהודים            1162 non-null   float64\n",
      " 11  ערבים                  541 non-null    float64\n",
      " 12  שנת ייסוד              1089 non-null   object \n",
      " 13  צורת יישוב שוטפת       1483 non-null   int64  \n",
      " 14  השתייכות ארגונית       826 non-null    float64\n",
      " 15  קואורדינטות            1451 non-null   float64\n",
      " 16  גובה ממוצע             1288 non-null   float64\n",
      " 17  ועדת תכנון             1317 non-null   float64\n",
      " 18  מרחב משטרה             1319 non-null   float64\n",
      " 19  שנה                    1483 non-null   int64  \n",
      " 20  שם יישוב באנגלית       1262 non-null   object \n",
      " 21  אשכול רשויות מקומיות   785 non-null    float64\n",
      "dtypes: float64(14), int64(5), object(3)\n",
      "memory usage: 266.5+ KB\n"
     ]
    }
   ],
   "source": [
    "cities_data.info()"
   ]
  },
  {
   "cell_type": "markdown",
   "metadata": {},
   "source": [
    "#### Merge \"votes_data\" & \"cities_data\""
   ]
  },
  {
   "cell_type": "code",
   "execution_count": 25,
   "metadata": {},
   "outputs": [
    {
     "data": {
      "text/html": [
       "<div>\n",
       "<style scoped>\n",
       "    .dataframe tbody tr th:only-of-type {\n",
       "        vertical-align: middle;\n",
       "    }\n",
       "\n",
       "    .dataframe tbody tr th {\n",
       "        vertical-align: top;\n",
       "    }\n",
       "\n",
       "    .dataframe thead th {\n",
       "        text-align: right;\n",
       "    }\n",
       "</style>\n",
       "<table border=\"1\" class=\"dataframe\">\n",
       "  <thead>\n",
       "    <tr style=\"text-align: right;\">\n",
       "      <th></th>\n",
       "      <th>סמל ועדה</th>\n",
       "      <th>סמל ישוב</th>\n",
       "      <th>בזב</th>\n",
       "      <th>מצביעים</th>\n",
       "      <th>פסולים</th>\n",
       "      <th>כשרים</th>\n",
       "      <th>אמת</th>\n",
       "      <th>ב</th>\n",
       "      <th>ג</th>\n",
       "      <th>ודעם</th>\n",
       "      <th>...</th>\n",
       "      <th>שנת ייסוד</th>\n",
       "      <th>צורת יישוב שוטפת</th>\n",
       "      <th>השתייכות ארגונית</th>\n",
       "      <th>קואורדינטות</th>\n",
       "      <th>גובה ממוצע</th>\n",
       "      <th>ועדת תכנון</th>\n",
       "      <th>מרחב משטרה</th>\n",
       "      <th>שנה</th>\n",
       "      <th>שם יישוב באנגלית</th>\n",
       "      <th>אשכול רשויות מקומיות</th>\n",
       "    </tr>\n",
       "  </thead>\n",
       "  <tbody>\n",
       "    <tr>\n",
       "      <th>אבו גוש</th>\n",
       "      <td>2</td>\n",
       "      <td>472</td>\n",
       "      <td>4961</td>\n",
       "      <td>1994</td>\n",
       "      <td>47</td>\n",
       "      <td>1947</td>\n",
       "      <td>18</td>\n",
       "      <td>4</td>\n",
       "      <td>4</td>\n",
       "      <td>951</td>\n",
       "      <td>...</td>\n",
       "      <td>NaN</td>\n",
       "      <td>280</td>\n",
       "      <td>NaN</td>\n",
       "      <td>2.105263e+09</td>\n",
       "      <td>686.0</td>\n",
       "      <td>152.0</td>\n",
       "      <td>10002475.0</td>\n",
       "      <td>2019</td>\n",
       "      <td>Abu Ghosh</td>\n",
       "      <td>NaN</td>\n",
       "    </tr>\n",
       "    <tr>\n",
       "      <th>אבו סנאן</th>\n",
       "      <td>6</td>\n",
       "      <td>473</td>\n",
       "      <td>9705</td>\n",
       "      <td>5151</td>\n",
       "      <td>81</td>\n",
       "      <td>5070</td>\n",
       "      <td>22</td>\n",
       "      <td>2</td>\n",
       "      <td>1</td>\n",
       "      <td>2127</td>\n",
       "      <td>...</td>\n",
       "      <td>NaN</td>\n",
       "      <td>270</td>\n",
       "      <td>NaN</td>\n",
       "      <td>2.160776e+09</td>\n",
       "      <td>71.0</td>\n",
       "      <td>252.0</td>\n",
       "      <td>10004315.0</td>\n",
       "      <td>2019</td>\n",
       "      <td>Abu Sinan</td>\n",
       "      <td>NaN</td>\n",
       "    </tr>\n",
       "    <tr>\n",
       "      <th>אבו תלול</th>\n",
       "      <td>18</td>\n",
       "      <td>1375</td>\n",
       "      <td>1004</td>\n",
       "      <td>480</td>\n",
       "      <td>1</td>\n",
       "      <td>479</td>\n",
       "      <td>1</td>\n",
       "      <td>0</td>\n",
       "      <td>0</td>\n",
       "      <td>22</td>\n",
       "      <td>...</td>\n",
       "      <td>NaN</td>\n",
       "      <td>290</td>\n",
       "      <td>NaN</td>\n",
       "      <td>1.933457e+09</td>\n",
       "      <td>388.0</td>\n",
       "      <td>624.0</td>\n",
       "      <td>15003711.0</td>\n",
       "      <td>2019</td>\n",
       "      <td>Abu Tulul                                     ...</td>\n",
       "      <td>610.0</td>\n",
       "    </tr>\n",
       "    <tr>\n",
       "      <th>אבטין</th>\n",
       "      <td>8</td>\n",
       "      <td>652</td>\n",
       "      <td>1876</td>\n",
       "      <td>658</td>\n",
       "      <td>5</td>\n",
       "      <td>653</td>\n",
       "      <td>3</td>\n",
       "      <td>0</td>\n",
       "      <td>1</td>\n",
       "      <td>165</td>\n",
       "      <td>...</td>\n",
       "      <td>NaN</td>\n",
       "      <td>290</td>\n",
       "      <td>NaN</td>\n",
       "      <td>2.109174e+09</td>\n",
       "      <td>47.0</td>\n",
       "      <td>301.0</td>\n",
       "      <td>10004207.0</td>\n",
       "      <td>2019</td>\n",
       "      <td>Ibtin</td>\n",
       "      <td>NaN</td>\n",
       "    </tr>\n",
       "    <tr>\n",
       "      <th>אבטליון</th>\n",
       "      <td>6</td>\n",
       "      <td>1275</td>\n",
       "      <td>316</td>\n",
       "      <td>231</td>\n",
       "      <td>0</td>\n",
       "      <td>231</td>\n",
       "      <td>48</td>\n",
       "      <td>11</td>\n",
       "      <td>0</td>\n",
       "      <td>2</td>\n",
       "      <td>...</td>\n",
       "      <td>1987</td>\n",
       "      <td>370</td>\n",
       "      <td>10.0</td>\n",
       "      <td>2.332475e+09</td>\n",
       "      <td>363.0</td>\n",
       "      <td>205.0</td>\n",
       "      <td>10004513.0</td>\n",
       "      <td>2019</td>\n",
       "      <td>Avtalyon</td>\n",
       "      <td>210.0</td>\n",
       "    </tr>\n",
       "  </tbody>\n",
       "</table>\n",
       "<p>5 rows × 67 columns</p>\n",
       "</div>"
      ],
      "text/plain": [
       "          סמל ועדה  סמל ישוב   בזב  מצביעים  פסולים  כשרים  אמת   ב  ג  ודעם  \\\n",
       "אבו גוש          2       472  4961     1994      47   1947   18   4  4   951   \n",
       "אבו סנאן         6       473  9705     5151      81   5070   22   2  1  2127   \n",
       "אבו תלול        18      1375  1004      480       1    479    1   0  0    22   \n",
       "אבטין            8       652  1876      658       5    653    3   0  1   165   \n",
       "אבטליון          6      1275   316      231       0    231   48  11  0     2   \n",
       "\n",
       "          ...  שנת ייסוד  צורת יישוב שוטפת  השתייכות ארגונית   קואורדינטות  \\\n",
       "אבו גוש   ...        NaN               280               NaN  2.105263e+09   \n",
       "אבו סנאן  ...        NaN               270               NaN  2.160776e+09   \n",
       "אבו תלול  ...        NaN               290               NaN  1.933457e+09   \n",
       "אבטין     ...        NaN               290               NaN  2.109174e+09   \n",
       "אבטליון   ...       1987               370              10.0  2.332475e+09   \n",
       "\n",
       "          גובה ממוצע  ועדת תכנון  מרחב משטרה   שנה  \\\n",
       "אבו גוש        686.0       152.0  10002475.0  2019   \n",
       "אבו סנאן        71.0       252.0  10004315.0  2019   \n",
       "אבו תלול       388.0       624.0  15003711.0  2019   \n",
       "אבטין           47.0       301.0  10004207.0  2019   \n",
       "אבטליון        363.0       205.0  10004513.0  2019   \n",
       "\n",
       "                                           שם יישוב באנגלית  \\\n",
       "אבו גוש                                           Abu Ghosh   \n",
       "אבו סנאן                                          Abu Sinan   \n",
       "אבו תלול  Abu Tulul                                     ...   \n",
       "אבטין                                                 Ibtin   \n",
       "אבטליון                                            Avtalyon   \n",
       "\n",
       "          אשכול רשויות מקומיות  \n",
       "אבו גוש                    NaN  \n",
       "אבו סנאן                   NaN  \n",
       "אבו תלול                 610.0  \n",
       "אבטין                      NaN  \n",
       "אבטליון                  210.0  \n",
       "\n",
       "[5 rows x 67 columns]"
      ]
     },
     "execution_count": 25,
     "metadata": {},
     "output_type": "execute_result"
    }
   ],
   "source": [
    "votes_and_city = votes_data.join(cities_data, how=\"inner\")\n",
    "votes_and_city.head()"
   ]
  },
  {
   "cell_type": "code",
   "execution_count": 26,
   "metadata": {},
   "outputs": [
    {
     "data": {
      "text/plain": [
       "Index(['סמל ועדה', 'סמל ישוב', 'בזב', 'מצביעים', 'פסולים', 'כשרים', 'אמת', 'ב',\n",
       "       'ג', 'ודעם', 'ז', 'זץ', 'ט', 'י', 'יז', 'ינ', 'יף', 'יק', 'יר', 'כ',\n",
       "       'כך', 'כן', 'ל', 'מחל', 'מרצ', 'נ', 'ני', 'נר', 'עם', 'פה', 'ףז', 'צי',\n",
       "       'צכ', 'צף', 'ץ', 'ק', 'קי', 'קך', 'קץ', 'ר', 'רנ', 'רף', 'רק', 'שס',\n",
       "       'ת', 'סמל יישוב', 'תעתיק', 'מחוז', 'נפה', 'אזור טבעי', 'מעמד מונציפאלי',\n",
       "       'שיוך מטרופוליני', 'דת יישוב', 'סך הכל אוכלוסייה 2019', 'יהודים ואחרים',\n",
       "       'מזה: יהודים', 'ערבים', 'שנת ייסוד', 'צורת יישוב שוטפת',\n",
       "       'השתייכות ארגונית', 'קואורדינטות', 'גובה ממוצע', 'ועדת תכנון',\n",
       "       'מרחב משטרה', 'שנה', 'שם יישוב באנגלית', 'אשכול רשויות מקומיות'],\n",
       "      dtype='object')"
      ]
     },
     "execution_count": 26,
     "metadata": {},
     "output_type": "execute_result"
    }
   ],
   "source": [
    "votes_and_city.columns"
   ]
  },
  {
   "cell_type": "code",
   "execution_count": 27,
   "metadata": {},
   "outputs": [
    {
     "data": {
      "text/plain": [
       "(1042, 67)"
      ]
     },
     "execution_count": 27,
     "metadata": {},
     "output_type": "execute_result"
    }
   ],
   "source": [
    "votes_and_city.shape"
   ]
  },
  {
   "cell_type": "code",
   "execution_count": 28,
   "metadata": {},
   "outputs": [
    {
     "data": {
      "text/plain": [
       "<matplotlib.axes._subplots.AxesSubplot at 0x20ee4f40cd0>"
      ]
     },
     "execution_count": 28,
     "metadata": {},
     "output_type": "execute_result"
    },
    {
     "data": {
      "image/png": "[encoded data removed]",
      "text/plain": [
       "<Figure size 432x288 with 1 Axes>"
      ]
     },
     "metadata": {
      "needs_background": "light"
     },
     "output_type": "display_data"
    }
   ],
   "source": [
    "# The relationship between average height of city to number of disqulified votes\n",
    "\n",
    "votes_and_city.plot(kind=\"scatter\", x=\"גובה ממוצע\", y=\"פסולים\")"
   ]
  },
  {
   "cell_type": "code",
   "execution_count": 29,
   "metadata": {},
   "outputs": [
    {
     "data": {
      "text/plain": [
       "<matplotlib.axes._subplots.AxesSubplot at 0x20ee65ca2b0>"
      ]
     },
     "execution_count": 29,
     "metadata": {},
     "output_type": "execute_result"
    },
    {
     "data": {
      "image/png": "[encoded data removed]",
      "text/plain": [
       "<Figure size 432x288 with 1 Axes>"
      ]
     },
     "metadata": {
      "needs_background": "light"
     },
     "output_type": "display_data"
    }
   ],
   "source": [
    "# The relationship between average height of city to number of voters\n",
    "\n",
    "votes_and_city.plot(kind=\"scatter\", x=\"גובה ממוצע\", y=\"מצביעים\")"
   ]
  },
  {
   "cell_type": "code",
   "execution_count": 30,
   "metadata": {},
   "outputs": [
    {
     "data": {
      "text/plain": [
       "<matplotlib.axes._subplots.AxesSubplot at 0x20ee641a790>"
      ]
     },
     "execution_count": 30,
     "metadata": {},
     "output_type": "execute_result"
    },
    {
     "data": {
      "image/png": "[encoded data removed]",
      "text/plain": [
       "<Figure size 432x288 with 1 Axes>"
      ]
     },
     "metadata": {
      "needs_background": "light"
     },
     "output_type": "display_data"
    }
   ],
   "source": [
    "# The relationship between disqulified votes to number of voters# \n",
    "\n",
    "votes_and_city.plot(kind=\"scatter\", x=\"פסולים\", y=\"מצביעים\")"
   ]
  },
  {
   "cell_type": "markdown",
   "metadata": {},
   "source": [
    "#### Applied Linear Regression: predict city height from top 10 parties votes data\n",
    "\n",
    "data: top 10 parties\n",
    "label: Average cities height"
   ]
  },
  {
   "cell_type": "code",
   "execution_count": 31,
   "metadata": {},
   "outputs": [],
   "source": [
    "top_parties = per_party.head(10).index\n",
    "X = votes_and_city.loc[:, top_parties]\n",
    "y = votes_and_city[\"גובה ממוצע\"]"
   ]
  },
  {
   "cell_type": "code",
   "execution_count": 32,
   "metadata": {},
   "outputs": [
    {
     "data": {
      "text/html": [
       "<div>\n",
       "<style scoped>\n",
       "    .dataframe tbody tr th:only-of-type {\n",
       "        vertical-align: middle;\n",
       "    }\n",
       "\n",
       "    .dataframe tbody tr th {\n",
       "        vertical-align: top;\n",
       "    }\n",
       "\n",
       "    .dataframe thead th {\n",
       "        text-align: right;\n",
       "    }\n",
       "</style>\n",
       "<table border=\"1\" class=\"dataframe\">\n",
       "  <thead>\n",
       "    <tr style=\"text-align: right;\">\n",
       "      <th></th>\n",
       "      <th>מחל</th>\n",
       "      <th>פה</th>\n",
       "      <th>שס</th>\n",
       "      <th>כן</th>\n",
       "      <th>ב</th>\n",
       "      <th>אמת</th>\n",
       "      <th>ג</th>\n",
       "      <th>ל</th>\n",
       "      <th>ט</th>\n",
       "      <th>ודעם</th>\n",
       "    </tr>\n",
       "  </thead>\n",
       "  <tbody>\n",
       "    <tr>\n",
       "      <th>אבו גוש</th>\n",
       "      <td>476</td>\n",
       "      <td>46</td>\n",
       "      <td>13</td>\n",
       "      <td>13</td>\n",
       "      <td>4</td>\n",
       "      <td>18</td>\n",
       "      <td>4</td>\n",
       "      <td>4</td>\n",
       "      <td>1</td>\n",
       "      <td>951</td>\n",
       "    </tr>\n",
       "    <tr>\n",
       "      <th>אבו סנאן</th>\n",
       "      <td>577</td>\n",
       "      <td>97</td>\n",
       "      <td>532</td>\n",
       "      <td>44</td>\n",
       "      <td>2</td>\n",
       "      <td>22</td>\n",
       "      <td>1</td>\n",
       "      <td>395</td>\n",
       "      <td>5</td>\n",
       "      <td>2127</td>\n",
       "    </tr>\n",
       "    <tr>\n",
       "      <th>אבו תלול</th>\n",
       "      <td>15</td>\n",
       "      <td>0</td>\n",
       "      <td>0</td>\n",
       "      <td>0</td>\n",
       "      <td>0</td>\n",
       "      <td>1</td>\n",
       "      <td>0</td>\n",
       "      <td>0</td>\n",
       "      <td>0</td>\n",
       "      <td>22</td>\n",
       "    </tr>\n",
       "    <tr>\n",
       "      <th>אבטין</th>\n",
       "      <td>59</td>\n",
       "      <td>8</td>\n",
       "      <td>2</td>\n",
       "      <td>0</td>\n",
       "      <td>0</td>\n",
       "      <td>3</td>\n",
       "      <td>1</td>\n",
       "      <td>1</td>\n",
       "      <td>0</td>\n",
       "      <td>165</td>\n",
       "    </tr>\n",
       "    <tr>\n",
       "      <th>אבטליון</th>\n",
       "      <td>17</td>\n",
       "      <td>74</td>\n",
       "      <td>0</td>\n",
       "      <td>15</td>\n",
       "      <td>11</td>\n",
       "      <td>48</td>\n",
       "      <td>0</td>\n",
       "      <td>7</td>\n",
       "      <td>1</td>\n",
       "      <td>2</td>\n",
       "    </tr>\n",
       "    <tr>\n",
       "      <th>...</th>\n",
       "      <td>...</td>\n",
       "      <td>...</td>\n",
       "      <td>...</td>\n",
       "      <td>...</td>\n",
       "      <td>...</td>\n",
       "      <td>...</td>\n",
       "      <td>...</td>\n",
       "      <td>...</td>\n",
       "      <td>...</td>\n",
       "      <td>...</td>\n",
       "    </tr>\n",
       "    <tr>\n",
       "      <th>תעוז</th>\n",
       "      <td>104</td>\n",
       "      <td>35</td>\n",
       "      <td>38</td>\n",
       "      <td>12</td>\n",
       "      <td>45</td>\n",
       "      <td>21</td>\n",
       "      <td>1</td>\n",
       "      <td>2</td>\n",
       "      <td>24</td>\n",
       "      <td>1</td>\n",
       "    </tr>\n",
       "    <tr>\n",
       "      <th>תפרח</th>\n",
       "      <td>51</td>\n",
       "      <td>2</td>\n",
       "      <td>133</td>\n",
       "      <td>1</td>\n",
       "      <td>7</td>\n",
       "      <td>0</td>\n",
       "      <td>652</td>\n",
       "      <td>0</td>\n",
       "      <td>33</td>\n",
       "      <td>0</td>\n",
       "    </tr>\n",
       "    <tr>\n",
       "      <th>תקומה</th>\n",
       "      <td>114</td>\n",
       "      <td>23</td>\n",
       "      <td>7</td>\n",
       "      <td>21</td>\n",
       "      <td>117</td>\n",
       "      <td>13</td>\n",
       "      <td>1</td>\n",
       "      <td>1</td>\n",
       "      <td>72</td>\n",
       "      <td>0</td>\n",
       "    </tr>\n",
       "    <tr>\n",
       "      <th>תקוע</th>\n",
       "      <td>326</td>\n",
       "      <td>34</td>\n",
       "      <td>22</td>\n",
       "      <td>27</td>\n",
       "      <td>590</td>\n",
       "      <td>33</td>\n",
       "      <td>12</td>\n",
       "      <td>29</td>\n",
       "      <td>374</td>\n",
       "      <td>1</td>\n",
       "    </tr>\n",
       "    <tr>\n",
       "      <th>תרום</th>\n",
       "      <td>212</td>\n",
       "      <td>15</td>\n",
       "      <td>46</td>\n",
       "      <td>14</td>\n",
       "      <td>74</td>\n",
       "      <td>8</td>\n",
       "      <td>1</td>\n",
       "      <td>5</td>\n",
       "      <td>53</td>\n",
       "      <td>0</td>\n",
       "    </tr>\n",
       "  </tbody>\n",
       "</table>\n",
       "<p>1042 rows × 10 columns</p>\n",
       "</div>"
      ],
      "text/plain": [
       "          מחל  פה   שס  כן    ב  אמת    ג    ל    ט  ודעם\n",
       "אבו גוש   476  46   13  13    4   18    4    4    1   951\n",
       "אבו סנאן  577  97  532  44    2   22    1  395    5  2127\n",
       "אבו תלול   15   0    0   0    0    1    0    0    0    22\n",
       "אבטין      59   8    2   0    0    3    1    1    0   165\n",
       "אבטליון    17  74    0  15   11   48    0    7    1     2\n",
       "...       ...  ..  ...  ..  ...  ...  ...  ...  ...   ...\n",
       "תעוז      104  35   38  12   45   21    1    2   24     1\n",
       "תפרח       51   2  133   1    7    0  652    0   33     0\n",
       "תקומה     114  23    7  21  117   13    1    1   72     0\n",
       "תקוע      326  34   22  27  590   33   12   29  374     1\n",
       "תרום      212  15   46  14   74    8    1    5   53     0\n",
       "\n",
       "[1042 rows x 10 columns]"
      ]
     },
     "execution_count": 32,
     "metadata": {},
     "output_type": "execute_result"
    }
   ],
   "source": [
    "X"
   ]
  },
  {
   "cell_type": "code",
   "execution_count": 33,
   "metadata": {},
   "outputs": [
    {
     "data": {
      "text/html": [
       "<div>\n",
       "<style scoped>\n",
       "    .dataframe tbody tr th:only-of-type {\n",
       "        vertical-align: middle;\n",
       "    }\n",
       "\n",
       "    .dataframe tbody tr th {\n",
       "        vertical-align: top;\n",
       "    }\n",
       "\n",
       "    .dataframe thead th {\n",
       "        text-align: right;\n",
       "    }\n",
       "</style>\n",
       "<table border=\"1\" class=\"dataframe\">\n",
       "  <thead>\n",
       "    <tr style=\"text-align: right;\">\n",
       "      <th></th>\n",
       "      <th>מחל</th>\n",
       "      <th>פה</th>\n",
       "      <th>שס</th>\n",
       "      <th>כן</th>\n",
       "      <th>ב</th>\n",
       "      <th>אמת</th>\n",
       "      <th>ג</th>\n",
       "      <th>ל</th>\n",
       "      <th>ט</th>\n",
       "      <th>ודעם</th>\n",
       "    </tr>\n",
       "  </thead>\n",
       "  <tbody>\n",
       "    <tr>\n",
       "      <th>אבו גוש</th>\n",
       "      <td>0.311111</td>\n",
       "      <td>0.030065</td>\n",
       "      <td>0.008497</td>\n",
       "      <td>0.008497</td>\n",
       "      <td>0.002614</td>\n",
       "      <td>0.011765</td>\n",
       "      <td>0.002614</td>\n",
       "      <td>0.002614</td>\n",
       "      <td>0.000654</td>\n",
       "      <td>0.621569</td>\n",
       "    </tr>\n",
       "    <tr>\n",
       "      <th>אבו סנאן</th>\n",
       "      <td>0.151762</td>\n",
       "      <td>0.025513</td>\n",
       "      <td>0.139926</td>\n",
       "      <td>0.011573</td>\n",
       "      <td>0.000526</td>\n",
       "      <td>0.005786</td>\n",
       "      <td>0.000263</td>\n",
       "      <td>0.103893</td>\n",
       "      <td>0.001315</td>\n",
       "      <td>0.559442</td>\n",
       "    </tr>\n",
       "    <tr>\n",
       "      <th>אבו תלול</th>\n",
       "      <td>0.394737</td>\n",
       "      <td>0.000000</td>\n",
       "      <td>0.000000</td>\n",
       "      <td>0.000000</td>\n",
       "      <td>0.000000</td>\n",
       "      <td>0.026316</td>\n",
       "      <td>0.000000</td>\n",
       "      <td>0.000000</td>\n",
       "      <td>0.000000</td>\n",
       "      <td>0.578947</td>\n",
       "    </tr>\n",
       "    <tr>\n",
       "      <th>אבטין</th>\n",
       "      <td>0.246862</td>\n",
       "      <td>0.033473</td>\n",
       "      <td>0.008368</td>\n",
       "      <td>0.000000</td>\n",
       "      <td>0.000000</td>\n",
       "      <td>0.012552</td>\n",
       "      <td>0.004184</td>\n",
       "      <td>0.004184</td>\n",
       "      <td>0.000000</td>\n",
       "      <td>0.690377</td>\n",
       "    </tr>\n",
       "    <tr>\n",
       "      <th>אבטליון</th>\n",
       "      <td>0.097143</td>\n",
       "      <td>0.422857</td>\n",
       "      <td>0.000000</td>\n",
       "      <td>0.085714</td>\n",
       "      <td>0.062857</td>\n",
       "      <td>0.274286</td>\n",
       "      <td>0.000000</td>\n",
       "      <td>0.040000</td>\n",
       "      <td>0.005714</td>\n",
       "      <td>0.011429</td>\n",
       "    </tr>\n",
       "    <tr>\n",
       "      <th>...</th>\n",
       "      <td>...</td>\n",
       "      <td>...</td>\n",
       "      <td>...</td>\n",
       "      <td>...</td>\n",
       "      <td>...</td>\n",
       "      <td>...</td>\n",
       "      <td>...</td>\n",
       "      <td>...</td>\n",
       "      <td>...</td>\n",
       "      <td>...</td>\n",
       "    </tr>\n",
       "    <tr>\n",
       "      <th>תעוז</th>\n",
       "      <td>0.367491</td>\n",
       "      <td>0.123675</td>\n",
       "      <td>0.134276</td>\n",
       "      <td>0.042403</td>\n",
       "      <td>0.159011</td>\n",
       "      <td>0.074205</td>\n",
       "      <td>0.003534</td>\n",
       "      <td>0.007067</td>\n",
       "      <td>0.084806</td>\n",
       "      <td>0.003534</td>\n",
       "    </tr>\n",
       "    <tr>\n",
       "      <th>תפרח</th>\n",
       "      <td>0.058020</td>\n",
       "      <td>0.002275</td>\n",
       "      <td>0.151308</td>\n",
       "      <td>0.001138</td>\n",
       "      <td>0.007964</td>\n",
       "      <td>0.000000</td>\n",
       "      <td>0.741752</td>\n",
       "      <td>0.000000</td>\n",
       "      <td>0.037543</td>\n",
       "      <td>0.000000</td>\n",
       "    </tr>\n",
       "    <tr>\n",
       "      <th>תקומה</th>\n",
       "      <td>0.308943</td>\n",
       "      <td>0.062331</td>\n",
       "      <td>0.018970</td>\n",
       "      <td>0.056911</td>\n",
       "      <td>0.317073</td>\n",
       "      <td>0.035230</td>\n",
       "      <td>0.002710</td>\n",
       "      <td>0.002710</td>\n",
       "      <td>0.195122</td>\n",
       "      <td>0.000000</td>\n",
       "    </tr>\n",
       "    <tr>\n",
       "      <th>תקוע</th>\n",
       "      <td>0.225138</td>\n",
       "      <td>0.023481</td>\n",
       "      <td>0.015193</td>\n",
       "      <td>0.018646</td>\n",
       "      <td>0.407459</td>\n",
       "      <td>0.022790</td>\n",
       "      <td>0.008287</td>\n",
       "      <td>0.020028</td>\n",
       "      <td>0.258287</td>\n",
       "      <td>0.000691</td>\n",
       "    </tr>\n",
       "    <tr>\n",
       "      <th>תרום</th>\n",
       "      <td>0.495327</td>\n",
       "      <td>0.035047</td>\n",
       "      <td>0.107477</td>\n",
       "      <td>0.032710</td>\n",
       "      <td>0.172897</td>\n",
       "      <td>0.018692</td>\n",
       "      <td>0.002336</td>\n",
       "      <td>0.011682</td>\n",
       "      <td>0.123832</td>\n",
       "      <td>0.000000</td>\n",
       "    </tr>\n",
       "  </tbody>\n",
       "</table>\n",
       "<p>1042 rows × 10 columns</p>\n",
       "</div>"
      ],
      "text/plain": [
       "               מחל        פה        שס        כן         ב       אמת  \\\n",
       "אבו גוש   0.311111  0.030065  0.008497  0.008497  0.002614  0.011765   \n",
       "אבו סנאן  0.151762  0.025513  0.139926  0.011573  0.000526  0.005786   \n",
       "אבו תלול  0.394737  0.000000  0.000000  0.000000  0.000000  0.026316   \n",
       "אבטין     0.246862  0.033473  0.008368  0.000000  0.000000  0.012552   \n",
       "אבטליון   0.097143  0.422857  0.000000  0.085714  0.062857  0.274286   \n",
       "...            ...       ...       ...       ...       ...       ...   \n",
       "תעוז      0.367491  0.123675  0.134276  0.042403  0.159011  0.074205   \n",
       "תפרח      0.058020  0.002275  0.151308  0.001138  0.007964  0.000000   \n",
       "תקומה     0.308943  0.062331  0.018970  0.056911  0.317073  0.035230   \n",
       "תקוע      0.225138  0.023481  0.015193  0.018646  0.407459  0.022790   \n",
       "תרום      0.495327  0.035047  0.107477  0.032710  0.172897  0.018692   \n",
       "\n",
       "                 ג         ל         ט      ודעם  \n",
       "אבו גוש   0.002614  0.002614  0.000654  0.621569  \n",
       "אבו סנאן  0.000263  0.103893  0.001315  0.559442  \n",
       "אבו תלול  0.000000  0.000000  0.000000  0.578947  \n",
       "אבטין     0.004184  0.004184  0.000000  0.690377  \n",
       "אבטליון   0.000000  0.040000  0.005714  0.011429  \n",
       "...            ...       ...       ...       ...  \n",
       "תעוז      0.003534  0.007067  0.084806  0.003534  \n",
       "תפרח      0.741752  0.000000  0.037543  0.000000  \n",
       "תקומה     0.002710  0.002710  0.195122  0.000000  \n",
       "תקוע      0.008287  0.020028  0.258287  0.000691  \n",
       "תרום      0.002336  0.011682  0.123832  0.000000  \n",
       "\n",
       "[1042 rows x 10 columns]"
      ]
     },
     "execution_count": 33,
     "metadata": {},
     "output_type": "execute_result"
    }
   ],
   "source": [
    "# normalize rows -- percent votes instead of counst \n",
    "\n",
    "X_normalized = X.div(X.sum(axis=1), axis=0)\n",
    "X_normalized"
   ]
  },
  {
   "cell_type": "code",
   "execution_count": 34,
   "metadata": {},
   "outputs": [],
   "source": [
    "# Split the data into training/testing sets\n",
    "X_train, X_test, y_train, y_test = train_test_split(X_normalized, y, test_size=0.25, random_state=42)\n",
    "\n",
    "# Create linear regression object\n",
    "# Train the model using the training sets\n",
    "reg = LinearRegression().fit(X_train, y_train)\n",
    "\n",
    "# Make predictions using the testing set\n",
    "y_pred_linear_reg = reg.predict(X_test)"
   ]
  },
  {
   "cell_type": "code",
   "execution_count": 35,
   "metadata": {},
   "outputs": [
    {
     "name": "stdout",
     "output_type": "stream",
     "text": [
      "280.95639165825327\n",
      "[-122.33947606 -264.01625573 -154.47252179 -663.34624442  -68.86524034\n",
      "  254.28270987   56.42068633  664.4293325   345.74805074  -47.84104109]\n"
     ]
    }
   ],
   "source": [
    "# print the coefficients\n",
    "print(reg.intercept_)\n",
    "print(reg.coef_)"
   ]
  },
  {
   "cell_type": "code",
   "execution_count": 36,
   "metadata": {},
   "outputs": [
    {
     "data": {
      "text/plain": [
       "0.13037612865816406"
      ]
     },
     "execution_count": 36,
     "metadata": {},
     "output_type": "execute_result"
    }
   ],
   "source": [
    "r2_score(y_test, y_pred_linear_reg)"
   ]
  },
  {
   "cell_type": "code",
   "execution_count": 39,
   "metadata": {},
   "outputs": [
    {
     "data": {
      "text/plain": [
       "[<matplotlib.lines.Line2D at 0x20ee6486340>]"
      ]
     },
     "execution_count": 39,
     "metadata": {},
     "output_type": "execute_result"
    },
    {
     "data": {
      "image/png": "[encoded data removed]",
      "text/plain": [
       "<Figure size 360x360 with 1 Axes>"
      ]
     },
     "metadata": {
      "needs_background": "light"
     },
     "output_type": "display_data"
    }
   ],
   "source": [
    "plt.figure(figsize=(5,5))\n",
    "plt.plot(y_pred_linear_reg, y_test, '.')\n",
    "plt.xlabel(\"predicted\", fontsize=20)\n",
    "plt.ylabel(\"actual\", fontsize=20)\n",
    "plt.plot(range(800), range(800), \"-k\")"
   ]
  },
  {
   "cell_type": "markdown",
   "metadata": {},
   "source": [
    "### PCA for votes by city"
   ]
  },
  {
   "cell_type": "code",
   "execution_count": 40,
   "metadata": {},
   "outputs": [
    {
     "data": {
      "text/html": [
       "<div>\n",
       "<style scoped>\n",
       "    .dataframe tbody tr th:only-of-type {\n",
       "        vertical-align: middle;\n",
       "    }\n",
       "\n",
       "    .dataframe tbody tr th {\n",
       "        vertical-align: top;\n",
       "    }\n",
       "\n",
       "    .dataframe thead th {\n",
       "        text-align: right;\n",
       "    }\n",
       "</style>\n",
       "<table border=\"1\" class=\"dataframe\">\n",
       "  <thead>\n",
       "    <tr style=\"text-align: right;\">\n",
       "      <th></th>\n",
       "      <th>מחל</th>\n",
       "      <th>פה</th>\n",
       "      <th>שס</th>\n",
       "      <th>כן</th>\n",
       "      <th>ב</th>\n",
       "      <th>אמת</th>\n",
       "      <th>ג</th>\n",
       "      <th>ל</th>\n",
       "      <th>ט</th>\n",
       "      <th>ודעם</th>\n",
       "    </tr>\n",
       "    <tr>\n",
       "      <th>שם ישוב</th>\n",
       "      <th></th>\n",
       "      <th></th>\n",
       "      <th></th>\n",
       "      <th></th>\n",
       "      <th></th>\n",
       "      <th></th>\n",
       "      <th></th>\n",
       "      <th></th>\n",
       "      <th></th>\n",
       "      <th></th>\n",
       "    </tr>\n",
       "  </thead>\n",
       "  <tbody>\n",
       "    <tr>\n",
       "      <th>אבירים</th>\n",
       "      <td>0.048544</td>\n",
       "      <td>0.262136</td>\n",
       "      <td>0.009709</td>\n",
       "      <td>0.155340</td>\n",
       "      <td>0.000000</td>\n",
       "      <td>0.456311</td>\n",
       "      <td>0.000000</td>\n",
       "      <td>0.019417</td>\n",
       "      <td>0.019417</td>\n",
       "      <td>0.029126</td>\n",
       "    </tr>\n",
       "    <tr>\n",
       "      <th>אדירים</th>\n",
       "      <td>0.491228</td>\n",
       "      <td>0.011696</td>\n",
       "      <td>0.356725</td>\n",
       "      <td>0.017544</td>\n",
       "      <td>0.040936</td>\n",
       "      <td>0.005848</td>\n",
       "      <td>0.023392</td>\n",
       "      <td>0.000000</td>\n",
       "      <td>0.052632</td>\n",
       "      <td>0.000000</td>\n",
       "    </tr>\n",
       "    <tr>\n",
       "      <th>אושה</th>\n",
       "      <td>0.101266</td>\n",
       "      <td>0.362869</td>\n",
       "      <td>0.000000</td>\n",
       "      <td>0.156118</td>\n",
       "      <td>0.029536</td>\n",
       "      <td>0.303797</td>\n",
       "      <td>0.000000</td>\n",
       "      <td>0.033755</td>\n",
       "      <td>0.000000</td>\n",
       "      <td>0.012658</td>\n",
       "    </tr>\n",
       "    <tr>\n",
       "      <th>אחווה</th>\n",
       "      <td>0.212598</td>\n",
       "      <td>0.291339</td>\n",
       "      <td>0.015748</td>\n",
       "      <td>0.283465</td>\n",
       "      <td>0.031496</td>\n",
       "      <td>0.110236</td>\n",
       "      <td>0.000000</td>\n",
       "      <td>0.023622</td>\n",
       "      <td>0.031496</td>\n",
       "      <td>0.000000</td>\n",
       "    </tr>\n",
       "    <tr>\n",
       "      <th>איבים</th>\n",
       "      <td>0.459459</td>\n",
       "      <td>0.000000</td>\n",
       "      <td>0.027027</td>\n",
       "      <td>0.135135</td>\n",
       "      <td>0.108108</td>\n",
       "      <td>0.000000</td>\n",
       "      <td>0.000000</td>\n",
       "      <td>0.000000</td>\n",
       "      <td>0.270270</td>\n",
       "      <td>0.000000</td>\n",
       "    </tr>\n",
       "    <tr>\n",
       "      <th>...</th>\n",
       "      <td>...</td>\n",
       "      <td>...</td>\n",
       "      <td>...</td>\n",
       "      <td>...</td>\n",
       "      <td>...</td>\n",
       "      <td>...</td>\n",
       "      <td>...</td>\n",
       "      <td>...</td>\n",
       "      <td>...</td>\n",
       "      <td>...</td>\n",
       "    </tr>\n",
       "    <tr>\n",
       "      <th>קורנית</th>\n",
       "      <td>0.085106</td>\n",
       "      <td>0.398936</td>\n",
       "      <td>0.000000</td>\n",
       "      <td>0.194149</td>\n",
       "      <td>0.047872</td>\n",
       "      <td>0.236702</td>\n",
       "      <td>0.000000</td>\n",
       "      <td>0.026596</td>\n",
       "      <td>0.007979</td>\n",
       "      <td>0.002660</td>\n",
       "    </tr>\n",
       "    <tr>\n",
       "      <th>שורשים</th>\n",
       "      <td>0.132780</td>\n",
       "      <td>0.336100</td>\n",
       "      <td>0.000000</td>\n",
       "      <td>0.157676</td>\n",
       "      <td>0.078838</td>\n",
       "      <td>0.248963</td>\n",
       "      <td>0.000000</td>\n",
       "      <td>0.029046</td>\n",
       "      <td>0.004149</td>\n",
       "      <td>0.012448</td>\n",
       "    </tr>\n",
       "    <tr>\n",
       "      <th>שכניה</th>\n",
       "      <td>0.041916</td>\n",
       "      <td>0.362275</td>\n",
       "      <td>0.002994</td>\n",
       "      <td>0.182635</td>\n",
       "      <td>0.050898</td>\n",
       "      <td>0.302395</td>\n",
       "      <td>0.000000</td>\n",
       "      <td>0.035928</td>\n",
       "      <td>0.011976</td>\n",
       "      <td>0.008982</td>\n",
       "    </tr>\n",
       "    <tr>\n",
       "      <th>שער אפרים</th>\n",
       "      <td>0.377943</td>\n",
       "      <td>0.210657</td>\n",
       "      <td>0.053284</td>\n",
       "      <td>0.099133</td>\n",
       "      <td>0.090458</td>\n",
       "      <td>0.101611</td>\n",
       "      <td>0.002478</td>\n",
       "      <td>0.029740</td>\n",
       "      <td>0.034696</td>\n",
       "      <td>0.000000</td>\n",
       "    </tr>\n",
       "    <tr>\n",
       "      <th>מעטפות חיצוניות</th>\n",
       "      <td>0.282085</td>\n",
       "      <td>0.158794</td>\n",
       "      <td>0.065607</td>\n",
       "      <td>0.073196</td>\n",
       "      <td>0.108669</td>\n",
       "      <td>0.093819</td>\n",
       "      <td>0.037690</td>\n",
       "      <td>0.075241</td>\n",
       "      <td>0.074275</td>\n",
       "      <td>0.030624</td>\n",
       "    </tr>\n",
       "  </tbody>\n",
       "</table>\n",
       "<p>1215 rows × 10 columns</p>\n",
       "</div>"
      ],
      "text/plain": [
       "                      מחל        פה        שס        כן         ב       אמת  \\\n",
       "שם ישוב                                                                       \n",
       "אבירים           0.048544  0.262136  0.009709  0.155340  0.000000  0.456311   \n",
       "אדירים           0.491228  0.011696  0.356725  0.017544  0.040936  0.005848   \n",
       "אושה             0.101266  0.362869  0.000000  0.156118  0.029536  0.303797   \n",
       "אחווה            0.212598  0.291339  0.015748  0.283465  0.031496  0.110236   \n",
       "איבים            0.459459  0.000000  0.027027  0.135135  0.108108  0.000000   \n",
       "...                   ...       ...       ...       ...       ...       ...   \n",
       "קורנית           0.085106  0.398936  0.000000  0.194149  0.047872  0.236702   \n",
       "שורשים           0.132780  0.336100  0.000000  0.157676  0.078838  0.248963   \n",
       "שכניה            0.041916  0.362275  0.002994  0.182635  0.050898  0.302395   \n",
       "שער אפרים        0.377943  0.210657  0.053284  0.099133  0.090458  0.101611   \n",
       "מעטפות חיצוניות  0.282085  0.158794  0.065607  0.073196  0.108669  0.093819   \n",
       "\n",
       "                        ג         ל         ט      ודעם  \n",
       "שם ישוב                                                  \n",
       "אבירים           0.000000  0.019417  0.019417  0.029126  \n",
       "אדירים           0.023392  0.000000  0.052632  0.000000  \n",
       "אושה             0.000000  0.033755  0.000000  0.012658  \n",
       "אחווה            0.000000  0.023622  0.031496  0.000000  \n",
       "איבים            0.000000  0.000000  0.270270  0.000000  \n",
       "...                   ...       ...       ...       ...  \n",
       "קורנית           0.000000  0.026596  0.007979  0.002660  \n",
       "שורשים           0.000000  0.029046  0.004149  0.012448  \n",
       "שכניה            0.000000  0.035928  0.011976  0.008982  \n",
       "שער אפרים        0.002478  0.029740  0.034696  0.000000  \n",
       "מעטפות חיצוניות  0.037690  0.075241  0.074275  0.030624  \n",
       "\n",
       "[1215 rows x 10 columns]"
      ]
     },
     "execution_count": 40,
     "metadata": {},
     "output_type": "execute_result"
    }
   ],
   "source": [
    "k = 10\n",
    "votes_data = pd.read_excel(\"votes_2021_by_city.xlsx\", index_col=1)\n",
    "per_party = votes_data.iloc[:, 6:].sum().sort_values(ascending=False) # only the parties data\n",
    "\n",
    "top_parties = per_party.head(k).index # We want top 10 parties which got most votes\n",
    "v = votes_data.loc[:, top_parties]\n",
    "v_normalized = v.div(v.sum(axis=1), axis=0) # normalize data\n",
    "v_normalized"
   ]
  },
  {
   "cell_type": "code",
   "execution_count": 47,
   "metadata": {},
   "outputs": [
    {
     "name": "stdout",
     "output_type": "stream",
     "text": [
      "שם ישוב\n",
      "אבירים                151\n",
      "אדירים                180\n",
      "אושה                  276\n",
      "אחווה                 145\n",
      "איבים                  40\n",
      "                    ...  \n",
      "קורנית                491\n",
      "שורשים                290\n",
      "שכניה                 445\n",
      "שער אפרים             923\n",
      "מעטפות חיצוניות    425512\n",
      "Name: מצביעים, Length: 1215, dtype: int64\n"
     ]
    },
    {
     "data": {
      "text/plain": [
       "Index(['אשדוד', 'אשקלון', 'טבריה', 'שדרות', 'אופקים', 'אילת', 'באר שבע',\n",
       "       'גני תקווה', 'דימונה', 'חדרה',\n",
       "       ...\n",
       "       'כוכב יאיר', 'כפר כנא', 'כפר קאסם', 'קרית אונו', 'כפר יונה', 'מיתר',\n",
       "       'טייבה', 'טירה', 'קלנסווה', 'מעטפות חיצוניות'],\n",
       "      dtype='object', name='שם ישוב', length=115)"
      ]
     },
     "execution_count": 47,
     "metadata": {},
     "output_type": "execute_result"
    }
   ],
   "source": [
    "# Get cities which numbers of votes is bigger than 5000\n",
    "\n",
    "n = votes_data[\"מצביעים\"]\n",
    "print(n)\n",
    "top_cities = votes_data[n > 5000].index \n",
    "top_cities"
   ]
  },
  {
   "cell_type": "code",
   "execution_count": 42,
   "metadata": {},
   "outputs": [
    {
     "data": {
      "image/png": "[encoded data removed]",
      "text/plain": [
       "<Figure size 864x432 with 1 Axes>"
      ]
     },
     "metadata": {
      "needs_background": "light"
     },
     "output_type": "display_data"
    }
   ],
   "source": [
    "pca = PCA().fit(v_normalized)\n",
    "\n",
    "import matplotlib.pyplot as plt\n",
    "plt.rcParams[\"figure.figsize\"] = (12,6)\n",
    "\n",
    "fig, ax = plt.subplots()\n",
    "xi = np.arange(1, 11, step=1)\n",
    "y = np.cumsum(pca.explained_variance_ratio_)\n",
    "\n",
    "plt.ylim(0.0,1.1)\n",
    "plt.plot(xi, y, marker='o', linestyle='--', color='b')\n",
    "\n",
    "plt.xlabel('Number of Components')\n",
    "plt.xticks(np.arange(0, 11, step=1)) #change from 0-based array index to 1-based human-readable label\n",
    "plt.ylabel('Cumulative variance (%)')\n",
    "plt.title('The number of components needed to explain variance')\n",
    "\n",
    "plt.axhline(y=0.95, color='r', linestyle='-')\n",
    "plt.text(0.5, 0.85, '95% cut-off threshold', color = 'red', fontsize=16)\n",
    "\n",
    "ax.grid(axis='x')\n",
    "plt.show()"
   ]
  },
  {
   "cell_type": "markdown",
   "metadata": {},
   "source": [
    "In this case, to get 95% of variance explained  need 5 principal components."
   ]
  },
  {
   "cell_type": "code",
   "execution_count": 44,
   "metadata": {},
   "outputs": [
    {
     "data": {
      "text/plain": [
       "PCA(n_components=5)"
      ]
     },
     "execution_count": 44,
     "metadata": {},
     "output_type": "execute_result"
    }
   ],
   "source": [
    "pca_votes = PCA(n_components=5) # Number of components to keep\n",
    "pca_votes.fit(v_normalized)"
   ]
  },
  {
   "cell_type": "code",
   "execution_count": 48,
   "metadata": {},
   "outputs": [
    {
     "data": {
      "text/plain": [
       "array([[-0.21888381, -0.2707078 ,  0.04819447,  0.06047473, -0.09007592],\n",
       "       [ 0.11216687,  0.32689458, -0.19860291,  0.16281303,  0.01062439],\n",
       "       [-0.21707934, -0.21370584, -0.00380092,  0.00592436, -0.03080548],\n",
       "       ...,\n",
       "       [-0.23013269, -0.24026831,  0.04687938,  0.00206392, -0.00835671],\n",
       "       [-0.05086824,  0.11184204, -0.12805854, -0.02388123,  0.00340128],\n",
       "       [-0.00287465,  0.08608743, -0.02888798,  0.01847207,  0.03714316]])"
      ]
     },
     "execution_count": 48,
     "metadata": {},
     "output_type": "execute_result"
    }
   ],
   "source": [
    "city_loadings = pca_votes.transform(v_normalized)\n",
    "city_loadings"
   ]
  },
  {
   "cell_type": "code",
   "execution_count": 49,
   "metadata": {},
   "outputs": [
    {
     "data": {
      "text/html": [
       "<div>\n",
       "<style scoped>\n",
       "    .dataframe tbody tr th:only-of-type {\n",
       "        vertical-align: middle;\n",
       "    }\n",
       "\n",
       "    .dataframe tbody tr th {\n",
       "        vertical-align: top;\n",
       "    }\n",
       "\n",
       "    .dataframe thead th {\n",
       "        text-align: right;\n",
       "    }\n",
       "</style>\n",
       "<table border=\"1\" class=\"dataframe\">\n",
       "  <thead>\n",
       "    <tr style=\"text-align: right;\">\n",
       "      <th></th>\n",
       "      <th>0</th>\n",
       "      <th>1</th>\n",
       "      <th>2</th>\n",
       "      <th>3</th>\n",
       "      <th>4</th>\n",
       "    </tr>\n",
       "    <tr>\n",
       "      <th>שם ישוב</th>\n",
       "      <th></th>\n",
       "      <th></th>\n",
       "      <th></th>\n",
       "      <th></th>\n",
       "      <th></th>\n",
       "    </tr>\n",
       "  </thead>\n",
       "  <tbody>\n",
       "    <tr>\n",
       "      <th>אשדוד</th>\n",
       "      <td>0.031687</td>\n",
       "      <td>0.160934</td>\n",
       "      <td>-0.099316</td>\n",
       "      <td>0.148832</td>\n",
       "      <td>0.089876</td>\n",
       "    </tr>\n",
       "    <tr>\n",
       "      <th>אשקלון</th>\n",
       "      <td>0.039376</td>\n",
       "      <td>0.223208</td>\n",
       "      <td>-0.152062</td>\n",
       "      <td>0.031342</td>\n",
       "      <td>0.005526</td>\n",
       "    </tr>\n",
       "    <tr>\n",
       "      <th>טבריה</th>\n",
       "      <td>0.074652</td>\n",
       "      <td>0.266027</td>\n",
       "      <td>-0.168763</td>\n",
       "      <td>0.132350</td>\n",
       "      <td>0.027561</td>\n",
       "    </tr>\n",
       "    <tr>\n",
       "      <th>שדרות</th>\n",
       "      <td>0.073387</td>\n",
       "      <td>0.283560</td>\n",
       "      <td>-0.083731</td>\n",
       "      <td>0.003239</td>\n",
       "      <td>0.026481</td>\n",
       "    </tr>\n",
       "    <tr>\n",
       "      <th>אופקים</th>\n",
       "      <td>0.079569</td>\n",
       "      <td>0.222004</td>\n",
       "      <td>-0.077619</td>\n",
       "      <td>0.225450</td>\n",
       "      <td>0.100867</td>\n",
       "    </tr>\n",
       "    <tr>\n",
       "      <th>...</th>\n",
       "      <td>...</td>\n",
       "      <td>...</td>\n",
       "      <td>...</td>\n",
       "      <td>...</td>\n",
       "      <td>...</td>\n",
       "    </tr>\n",
       "    <tr>\n",
       "      <th>מיתר</th>\n",
       "      <td>-0.075219</td>\n",
       "      <td>0.050953</td>\n",
       "      <td>-0.013697</td>\n",
       "      <td>-0.071849</td>\n",
       "      <td>0.056349</td>\n",
       "    </tr>\n",
       "    <tr>\n",
       "      <th>טייבה</th>\n",
       "      <td>0.811359</td>\n",
       "      <td>-0.477620</td>\n",
       "      <td>0.032771</td>\n",
       "      <td>-0.023863</td>\n",
       "      <td>0.004122</td>\n",
       "    </tr>\n",
       "    <tr>\n",
       "      <th>טירה</th>\n",
       "      <td>0.728355</td>\n",
       "      <td>-0.463412</td>\n",
       "      <td>0.026512</td>\n",
       "      <td>-0.029877</td>\n",
       "      <td>0.002499</td>\n",
       "    </tr>\n",
       "    <tr>\n",
       "      <th>קלנסווה</th>\n",
       "      <td>0.810285</td>\n",
       "      <td>-0.471525</td>\n",
       "      <td>0.026783</td>\n",
       "      <td>-0.028192</td>\n",
       "      <td>0.001178</td>\n",
       "    </tr>\n",
       "    <tr>\n",
       "      <th>מעטפות חיצוניות</th>\n",
       "      <td>-0.002875</td>\n",
       "      <td>0.086087</td>\n",
       "      <td>-0.028888</td>\n",
       "      <td>0.018472</td>\n",
       "      <td>0.037143</td>\n",
       "    </tr>\n",
       "  </tbody>\n",
       "</table>\n",
       "<p>115 rows × 5 columns</p>\n",
       "</div>"
      ],
      "text/plain": [
       "                        0         1         2         3         4\n",
       "שם ישוב                                                          \n",
       "אשדוד            0.031687  0.160934 -0.099316  0.148832  0.089876\n",
       "אשקלון           0.039376  0.223208 -0.152062  0.031342  0.005526\n",
       "טבריה            0.074652  0.266027 -0.168763  0.132350  0.027561\n",
       "שדרות            0.073387  0.283560 -0.083731  0.003239  0.026481\n",
       "אופקים           0.079569  0.222004 -0.077619  0.225450  0.100867\n",
       "...                   ...       ...       ...       ...       ...\n",
       "מיתר            -0.075219  0.050953 -0.013697 -0.071849  0.056349\n",
       "טייבה            0.811359 -0.477620  0.032771 -0.023863  0.004122\n",
       "טירה             0.728355 -0.463412  0.026512 -0.029877  0.002499\n",
       "קלנסווה          0.810285 -0.471525  0.026783 -0.028192  0.001178\n",
       "מעטפות חיצוניות -0.002875  0.086087 -0.028888  0.018472  0.037143\n",
       "\n",
       "[115 rows x 5 columns]"
      ]
     },
     "execution_count": 49,
     "metadata": {},
     "output_type": "execute_result"
    }
   ],
   "source": [
    "pca_loadings_top = pd.DataFrame(city_loadings, index=v.index).loc[top_cities] # keep top cities after PCA transform\n",
    "pca_loadings_top"
   ]
  },
  {
   "cell_type": "markdown",
   "metadata": {},
   "source": [
    "### Clustring in PCA space"
   ]
  },
  {
   "cell_type": "code",
   "execution_count": 50,
   "metadata": {},
   "outputs": [
    {
     "data": {
      "image/png": "[encoded data removed]",
      "text/plain": [
       "<Figure size 432x432 with 1 Axes>"
      ]
     },
     "metadata": {
      "needs_background": "light"
     },
     "output_type": "display_data"
    }
   ],
   "source": [
    "# Run the Kmeans algorithm and get the index of data points clusters - Elbow Method\n",
    "\n",
    "sse = []\n",
    "list_k = list(range(1, 10))\n",
    "\n",
    "for k in list_k:\n",
    "    km = KMeans(n_clusters=k)\n",
    "    km.fit(pca_loadings_top.values[:, :n_components])\n",
    "    sse.append(km.inertia_)\n",
    "\n",
    "# Plot sse against k\n",
    "plt.figure(figsize=(6, 6))\n",
    "plt.plot(list_k, sse, '-o')\n",
    "plt.xlabel(r'Number of clusters *k*')\n",
    "plt.ylabel('Sum of squared distance');"
   ]
  },
  {
   "cell_type": "code",
   "execution_count": 52,
   "metadata": {},
   "outputs": [],
   "source": [
    "n_clusters = 3 # Chosen according to the elbow method\n",
    "n_components = 5"
   ]
  },
  {
   "cell_type": "code",
   "execution_count": 57,
   "metadata": {},
   "outputs": [
    {
     "name": "stdout",
     "output_type": "stream",
     "text": [
      "[2 2 2 2 2 2 2 2 2 2 2 2 2 0 2 2 2 1 2 2 2 2 2 2 1 2 2 0 2 0 0 2 2 2 2 2 2\n",
      " 2 2 2 2 2 2 2 2 2 2 0 2 2 2 2 1 2 2 2 0 2 2 2 1 2 2 2 2 1 1 2 2 2 2 2 2 2\n",
      " 2 2 1 1 1 2 1 2 2 1 2 2 1 2 2 1 1 2 1 2 2 1 2 2 1 2 1 1 2 2 2 2 1 1 2 2 2\n",
      " 1 1 1 2]\n"
     ]
    }
   ],
   "source": [
    "kmeans = KMeans(n_clusters=n_clusters)\n",
    "assignemnts = kmeans.fit_predict(pca_loadings_top.values[:, :n_components])\n",
    "print(assignemnts)"
   ]
  },
  {
   "cell_type": "code",
   "execution_count": 56,
   "metadata": {},
   "outputs": [
    {
     "name": "stdout",
     "output_type": "stream",
     "text": [
      "================================================================================\n",
      "['מודיעין עילית' 'אלעד' 'בית שמש' 'ביתר עילית' 'בני ברק' 'רכסים']\n"
     ]
    },
    {
     "data": {
      "image/png": "[encoded data removed]",
      "text/plain": [
       "<Figure size 360x360 with 1 Axes>"
      ]
     },
     "metadata": {},
     "output_type": "display_data"
    },
    {
     "name": "stdout",
     "output_type": "stream",
     "text": [
      "================================================================================\n",
      "['אשדוד' 'אשקלון' 'טבריה' 'שדרות' 'אופקים' 'אילת' 'באר שבע' 'גני תקווה'\n",
      " 'דימונה' 'חדרה' 'חיפה' 'לוד' 'מגאר' 'נתיבות' 'עפולה' 'ערד' 'פתח תקווה'\n",
      " 'קרית אתא' 'קרית ביאליק' 'קרית גת' 'קרית מלאכי' 'ראשון לציון' 'רחובות'\n",
      " 'אור עקיבא' 'אפרת' 'בנימינהגבעת עדה' 'בת ים' 'גבעת שמואל' 'הוד השרון'\n",
      " 'ירושלים' 'כפר סבא' 'מבשרת ציון' 'מגדל העמק' 'מודיעיןמכביםרעות' 'צפת'\n",
      " 'קרית ים' 'קרית מוצקין' 'ראש העין' 'רמלה' 'רעננה' 'אזור' 'חולון' 'יבנה'\n",
      " 'יהודמונוסון' 'נס ציונה' 'נשר' 'פרדס חנהכרכור' 'קרית שמונה' 'רמת גן'\n",
      " 'תל אביב  יפו' 'אבן יהודה' 'גבעת זאב' 'גבעתיים' 'גדרה' 'זכרון יעקב'\n",
      " 'מעלותתרשיחא' 'נתניה' 'עכו' 'קדימהצורן' 'גן יבנה' 'ירכא' 'קרית טבעון'\n",
      " 'קרית עקרון' 'שוהם' 'מזכרת בתיה' 'בית שאן' 'הרצליה' 'נוף הגליל'\n",
      " 'רמת השרון' 'אור יהודה' 'אריאל' 'כרמיאל' 'מעלה אדומים' 'נהריה' 'תל מונד'\n",
      " 'דאלית אלכרמל' 'טירת כרמל' 'באר יעקב' 'חריש' 'יקנעם עילית' 'כוכב יאיר'\n",
      " 'קרית אונו' 'כפר יונה' 'מיתר' 'מעטפות חיצוניות']\n"
     ]
    },
    {
     "data": {
      "image/png": "[encoded data removed]",
      "text/plain": [
       "<Figure size 360x360 with 1 Axes>"
      ]
     },
     "metadata": {},
     "output_type": "display_data"
    },
    {
     "name": "stdout",
     "output_type": "stream",
     "text": [
      "================================================================================\n",
      "['ערערה' 'רהט' 'נצרת' 'גדיידהמכר' 'טמרה' 'כפר קרע' 'שפרעם' 'אבו סנאן'\n",
      " 'כאבול' 'אום אלפחם' 'יפיע' 'דייר אלאסד' 'באקה אלגרביה' 'כפר מנדא'\n",
      " 'מגד אלכרום' 'סחנין' 'דייר חנא' 'עראבה' 'ריינה' 'כפר כנא' 'כפר קאסם'\n",
      " 'טייבה' 'טירה' 'קלנסווה']\n"
     ]
    },
    {
     "data": {
      "image/png": "[encoded data removed]",
      "text/plain": [
       "<Figure size 360x360 with 1 Axes>"
      ]
     },
     "metadata": {},
     "output_type": "display_data"
    }
   ],
   "source": [
    "for i, group in pd.Series(assignemnts, index=pca_loadings_top.index).groupby(assignemnts):\n",
    "    print(\"=\"*80)\n",
    "    print(group.index.values)\n",
    "    v.loc[group.index.values].sum().plot(kind=\"pie\", figsize=(5, 5))\n",
    "    plt.show()"
   ]
  }
 ],
 "metadata": {
  "kernelspec": {
   "display_name": "Python 3",
   "language": "python",
   "name": "python3"
  },
  "language_info": {
   "codemirror_mode": {
    "name": "ipython",
    "version": 3
   },
   "file_extension": ".py",
   "mimetype": "text/x-python",
   "name": "python",
   "nbconvert_exporter": "python",
   "pygments_lexer": "ipython3",
   "version": "3.8.3"
  }
 },
 "nbformat": 4,
 "nbformat_minor": 4
}
